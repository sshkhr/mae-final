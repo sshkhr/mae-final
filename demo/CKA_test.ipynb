{
  "cells": [
    {
      "cell_type": "code",
      "execution_count": 1,
      "metadata": {
        "id": "3_S20v_iMRFz"
      },
      "outputs": [],
      "source": [
        "import torch\n",
        "import torchvision\n",
        "from einops import rearrange, repeat\n",
        "from loguru import logger\n",
        "\n",
        "from cka import gram, centering_mat, centered_gram, unbiased_hsic_xy, MinibatchCKA\n",
        "\n",
        "DEVICE = torch.device('cpu')\n",
        "if torch.cuda.is_available():\n",
        "  DEVICE = torch.device('cuda')"
      ]
    },
    {
      "cell_type": "code",
      "execution_count": 2,
      "metadata": {
        "colab": {
          "base_uri": "https://localhost:8080/"
        },
        "id": "tI2Wteg4df_R",
        "outputId": "a291090d-2fd5-4a80-b3a7-140d39b6d3cc"
      },
      "outputs": [],
      "source": [
        "#########################\n",
        "# sanity tests\n",
        "\n",
        "x = torch.randn(8, 7, 5, device=DEVICE)\n",
        "y = torch.randn(8, 17, 9, device=DEVICE)\n",
        "\n",
        "g = gram(x, device=DEVICE)\n",
        "assert g.shape == (x.shape[0], x.shape[0])\n",
        "cg = centered_gram(x, device=DEVICE) # centered = column and row means subtracted\n",
        "assert cg.shape == g.shape"
      ]
    },
    {
      "cell_type": "code",
      "execution_count": 3,
      "metadata": {},
      "outputs": [
        {
          "data": {
            "text/plain": [
              "tensor(0.3433, device='cuda:0')"
            ]
          },
          "execution_count": 3,
          "metadata": {},
          "output_type": "execute_result"
        }
      ],
      "source": [
        "cka = MinibatchCKA().to(DEVICE)\n",
        "cka.update(x, y, device=DEVICE)\n",
        "cka.compute()"
      ]
    },
    {
      "cell_type": "code",
      "execution_count": 20,
      "metadata": {},
      "outputs": [],
      "source": [
        "X = torch.randn(8, 10, device=DEVICE)\n",
        "Y = torch.randn(8, 20, device=DEVICE)"
      ]
    },
    {
      "cell_type": "code",
      "execution_count": 21,
      "metadata": {},
      "outputs": [
        {
          "data": {
            "text/plain": [
              "tensor(0.3563, device='cuda:0')"
            ]
          },
          "execution_count": 21,
          "metadata": {},
          "output_type": "execute_result"
        }
      ],
      "source": [
        "cka = MinibatchCKA().to(DEVICE)\n",
        "cka.update(X, Y, device=DEVICE)\n",
        "cka.compute()"
      ]
    },
    {
      "cell_type": "code",
      "execution_count": 34,
      "metadata": {},
      "outputs": [],
      "source": [
        "X = torch.randn(32, 100, device=DEVICE)\n",
        "Y = torch.randn(32, 200, device=DEVICE)"
      ]
    },
    {
      "cell_type": "code",
      "execution_count": 35,
      "metadata": {},
      "outputs": [
        {
          "data": {
            "text/plain": [
              "tensor(0.0874, device='cuda:0')"
            ]
          },
          "execution_count": 35,
          "metadata": {},
          "output_type": "execute_result"
        }
      ],
      "source": [
        "cka = MinibatchCKA().to(DEVICE)\n",
        "cka.update(X, Y, device=DEVICE)\n",
        "cka.compute()"
      ]
    },
    {
      "cell_type": "code",
      "execution_count": 24,
      "metadata": {},
      "outputs": [],
      "source": [
        "X = torch.randn(128, 100, device=DEVICE)\n",
        "Y = torch.randn(128, 200, device=DEVICE)"
      ]
    },
    {
      "cell_type": "code",
      "execution_count": 25,
      "metadata": {},
      "outputs": [
        {
          "data": {
            "text/plain": [
              "tensor(0., device='cuda:0')"
            ]
          },
          "execution_count": 25,
          "metadata": {},
          "output_type": "execute_result"
        }
      ],
      "source": [
        "cka = MinibatchCKA().to(DEVICE)\n",
        "cka.update(X, Y, device=DEVICE)\n",
        "cka.compute()"
      ]
    },
    {
      "cell_type": "code",
      "execution_count": 30,
      "metadata": {},
      "outputs": [],
      "source": [
        "X = torch.randn(256, 100, device=DEVICE)\n",
        "Y = torch.randn(256, 200, device=DEVICE)"
      ]
    },
    {
      "cell_type": "code",
      "execution_count": 31,
      "metadata": {},
      "outputs": [
        {
          "data": {
            "text/plain": [
              "tensor(0., device='cuda:0')"
            ]
          },
          "execution_count": 31,
          "metadata": {},
          "output_type": "execute_result"
        }
      ],
      "source": [
        "cka = MinibatchCKA().to(DEVICE)\n",
        "cka.update(X, Y, device=DEVICE)\n",
        "cka.compute()"
      ]
    },
    {
      "cell_type": "markdown",
      "metadata": {},
      "source": [
        "# CKA sanity checks"
      ]
    },
    {
      "cell_type": "code",
      "execution_count": 5,
      "metadata": {},
      "outputs": [],
      "source": [
        "x = torch.arange(16).view(4, 2, 2)\n",
        "y = torch.rot90(x, 1, [1, 2])\n",
        "z = torch.rot90(x, -1, [1, 2])\n",
        "x_2 = x * 2.5\n",
        "check = torch.rand(24).view(4, 6) * 10"
      ]
    },
    {
      "cell_type": "markdown",
      "metadata": {},
      "source": [
        "### Invariant to isotropic scaling"
      ]
    },
    {
      "cell_type": "code",
      "execution_count": 6,
      "metadata": {},
      "outputs": [
        {
          "data": {
            "text/plain": [
              "tensor(1., device='cuda:0')"
            ]
          },
          "execution_count": 6,
          "metadata": {},
          "output_type": "execute_result"
        }
      ],
      "source": [
        "cka = MinibatchCKA().to(DEVICE)\n",
        "cka.update(x, x_2, device=DEVICE)\n",
        "cka.compute()"
      ]
    },
    {
      "cell_type": "code",
      "execution_count": 7,
      "metadata": {},
      "outputs": [
        {
          "data": {
            "text/plain": [
              "tensor(0.5059, device='cuda:0')"
            ]
          },
          "execution_count": 7,
          "metadata": {},
          "output_type": "execute_result"
        }
      ],
      "source": [
        "cka = MinibatchCKA().to(DEVICE)\n",
        "cka.update(x, check, device=DEVICE)\n",
        "cka.compute()"
      ]
    },
    {
      "cell_type": "code",
      "execution_count": 8,
      "metadata": {},
      "outputs": [
        {
          "data": {
            "text/plain": [
              "tensor(0.5059, device='cuda:0')"
            ]
          },
          "execution_count": 8,
          "metadata": {},
          "output_type": "execute_result"
        }
      ],
      "source": [
        "cka = MinibatchCKA().to(DEVICE)\n",
        "cka.update(x_2, check, device=DEVICE)\n",
        "cka.compute()"
      ]
    },
    {
      "cell_type": "markdown",
      "metadata": {},
      "source": [
        "### Invariant to orthogonal transformations"
      ]
    },
    {
      "cell_type": "code",
      "execution_count": 11,
      "metadata": {},
      "outputs": [],
      "source": [
        "same = torch.rand(2, 2)\n",
        "check = torch.rand(16).view(4, 4) * 10"
      ]
    },
    {
      "cell_type": "code",
      "execution_count": 12,
      "metadata": {},
      "outputs": [],
      "source": [
        "U, epsilon, V = torch.linalg.svd(same)"
      ]
    },
    {
      "cell_type": "code",
      "execution_count": 13,
      "metadata": {},
      "outputs": [],
      "source": [
        "xu = torch.matmul(x.float(), U)\n",
        "xv = torch.matmul(x.float(), V)\n",
        "\n",
        "assert (xu != xv).any()"
      ]
    },
    {
      "cell_type": "code",
      "execution_count": 14,
      "metadata": {},
      "outputs": [
        {
          "data": {
            "text/plain": [
              "tensor(1.0000, device='cuda:0')"
            ]
          },
          "execution_count": 14,
          "metadata": {},
          "output_type": "execute_result"
        }
      ],
      "source": [
        "cka = MinibatchCKA().to(DEVICE)\n",
        "cka.update(xu,xv, device=DEVICE)\n",
        "cka.compute()"
      ]
    },
    {
      "cell_type": "code",
      "execution_count": 15,
      "metadata": {},
      "outputs": [
        {
          "data": {
            "text/plain": [
              "tensor(0.4479, device='cuda:0')"
            ]
          },
          "execution_count": 15,
          "metadata": {},
          "output_type": "execute_result"
        }
      ],
      "source": [
        "cka = MinibatchCKA().to(DEVICE)\n",
        "cka.update(x,check, device=DEVICE)\n",
        "cka.compute()"
      ]
    },
    {
      "cell_type": "code",
      "execution_count": 16,
      "metadata": {},
      "outputs": [
        {
          "data": {
            "text/plain": [
              "tensor(0.4479, device='cuda:0')"
            ]
          },
          "execution_count": 16,
          "metadata": {},
          "output_type": "execute_result"
        }
      ],
      "source": [
        "cka = MinibatchCKA().to(DEVICE)\n",
        "cka.update(xu, torch.matmul(check.float().reshape(-1, 2, 2), V), device=DEVICE)\n",
        "cka.compute()"
      ]
    }
  ],
  "metadata": {
    "accelerator": "GPU",
    "colab": {
      "authorship_tag": "ABX9TyPN0rF6/zxwFPGq0ccUU6IZ",
      "collapsed_sections": [],
      "include_colab_link": true,
      "name": "Reproducing Raghu et al 2021 - ViT vs CNN representations.ipynb",
      "provenance": []
    },
    "interpreter": {
      "hash": "4d63592652b72d6d1212845803c5d9f179006041ae41fea55e5a05839d2c9b62"
    },
    "kernelspec": {
      "display_name": "Python 3.9.12 ('pytorch_env')",
      "language": "python",
      "name": "python3"
    },
    "language_info": {
      "codemirror_mode": {
        "name": "ipython",
        "version": 3
      },
      "file_extension": ".py",
      "mimetype": "text/x-python",
      "name": "python",
      "nbconvert_exporter": "python",
      "pygments_lexer": "ipython3",
      "version": "3.9.12"
    }
  },
  "nbformat": 4,
  "nbformat_minor": 0
}
