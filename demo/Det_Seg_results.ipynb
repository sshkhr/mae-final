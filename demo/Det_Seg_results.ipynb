{
  "cells": [
    {
      "cell_type": "code",
      "execution_count": 1,
      "metadata": {
        "id": "3_S20v_iMRFz"
      },
      "outputs": [],
      "source": [
        "from pathlib import Path\n",
        "import os\n",
        "import pandas as pd\n",
        "import sys\n",
        "import requests\n",
        "from functools import partial\n",
        "from tqdm import tqdm\n",
        "\n",
        "import torch\n",
        "import torchvision\n",
        "from torchvision.io import read_image\n",
        "from torch.utils.data import Dataset, DataLoader\n",
        "from torchvision import transforms\n",
        "import torch \n",
        "from einops import rearrange, repeat\n",
        "from loguru import logger\n",
        "from torchmetrics import Metric, BootStrapper\n",
        "import matplotlib.pyplot as plt\n",
        "from PIL import Image\n",
        "import pickle\n",
        "import seaborn as sns\n",
        "from matplotlib.pyplot import figure\n",
        "from cka import gram, centering_mat, centered_gram, unbiased_hsic_xy, MinibatchCKA, HookedCache, make_pairwise_metrics, update_metrics, get_simmat_from_metrics\n",
        "import numpy as np\n",
        "import re\n",
        "\n",
        "os.environ[\"CUDA_DEVICE_ORDER\"] = \"PCI_BUS_ID\"\n",
        "os.environ[\"CUDA_VISIBLE_DEVICES\"] = \"1\"\n",
        "\n",
        "import timm\n",
        "from timm.utils import accuracy\n",
        "from torch.utils.tensorboard import SummaryWriter\n",
        "\n",
        "#from get_models import get_model\n",
        "\n",
        "writer = SummaryWriter()\n",
        "\n",
        "DEVICE = torch.device('cpu')\n",
        "if torch.cuda.is_available():\n",
        "  DEVICE = torch.device('cuda')"
      ]
    },
    {
      "attachments": {},
      "cell_type": "markdown",
      "metadata": {},
      "source": [
        "## Compare COCO results"
      ]
    },
    {
      "cell_type": "code",
      "execution_count": 2,
      "metadata": {},
      "outputs": [],
      "source": [
        "from ast import literal_eval"
      ]
    },
    {
      "cell_type": "code",
      "execution_count": 3,
      "metadata": {},
      "outputs": [
        {
          "name": "stdout",
          "output_type": "stream",
          "text": [
            "/checkpoint/sshkhr/experiments/detectron/mae/output/metrics.json\n",
            "/checkpoint/sshkhr/experiments/detectron/mocov3/output/metrics.json\n",
            "/checkpoint/sshkhr/experiments/detectron/dino/output/metrics.json\n"
          ]
        }
      ],
      "source": [
        "results = {'MAE': [], 'MoCoV3': [], 'DINO': []}\n",
        "\n",
        "for key in results:\n",
        "    folder_name = \"/checkpoint/sshkhr/experiments/detectron/\" + key.lower() + \"/output/\"\n",
        "    log_file = folder_name + \"metrics.json\"\n",
        "\n",
        "    print(log_file)\n",
        "    if os.path.isfile(log_file): \n",
        "        with open(log_file, \"r\") as log:\n",
        "            last_line = log.readlines()[-1]\n",
        "            log_dict = literal_eval(last_line)\n",
        "               \n",
        "    results[key] = log_dict"
      ]
    },
    {
      "cell_type": "code",
      "execution_count": 4,
      "metadata": {},
      "outputs": [],
      "source": [
        "df = pd.DataFrame.from_dict(results['MAE'], orient='index', columns=['MAE'])\n",
        "df['MoCo'] = pd.Series(results['MoCoV3'])\n",
        "df['DINO'] = pd.Series(results['DINO'])"
      ]
    },
    {
      "cell_type": "code",
      "execution_count": 5,
      "metadata": {},
      "outputs": [
        {
          "data": {
            "text/html": [
              "<div>\n",
              "<style scoped>\n",
              "    .dataframe tbody tr th:only-of-type {\n",
              "        vertical-align: middle;\n",
              "    }\n",
              "\n",
              "    .dataframe tbody tr th {\n",
              "        vertical-align: top;\n",
              "    }\n",
              "\n",
              "    .dataframe thead th {\n",
              "        text-align: right;\n",
              "    }\n",
              "</style>\n",
              "<table border=\"1\" class=\"dataframe\">\n",
              "  <thead>\n",
              "    <tr style=\"text-align: right;\">\n",
              "      <th></th>\n",
              "      <th>MAE</th>\n",
              "      <th>MoCo</th>\n",
              "      <th>DINO</th>\n",
              "    </tr>\n",
              "  </thead>\n",
              "  <tbody>\n",
              "    <tr>\n",
              "      <th>bbox/AP</th>\n",
              "      <td>51.568317</td>\n",
              "      <td>48.808589</td>\n",
              "      <td>47.729175</td>\n",
              "    </tr>\n",
              "    <tr>\n",
              "      <th>bbox/AP50</th>\n",
              "      <td>72.238651</td>\n",
              "      <td>70.297221</td>\n",
              "      <td>68.117114</td>\n",
              "    </tr>\n",
              "    <tr>\n",
              "      <th>bbox/AP75</th>\n",
              "      <td>56.585393</td>\n",
              "      <td>53.562847</td>\n",
              "      <td>52.232559</td>\n",
              "    </tr>\n",
              "    <tr>\n",
              "      <th>bbox/APl</th>\n",
              "      <td>66.360938</td>\n",
              "      <td>64.827569</td>\n",
              "      <td>62.493270</td>\n",
              "    </tr>\n",
              "    <tr>\n",
              "      <th>bbox/APm</th>\n",
              "      <td>55.043170</td>\n",
              "      <td>52.412641</td>\n",
              "      <td>50.758096</td>\n",
              "    </tr>\n",
              "    <tr>\n",
              "      <th>bbox/APs</th>\n",
              "      <td>35.274414</td>\n",
              "      <td>32.792464</td>\n",
              "      <td>32.172995</td>\n",
              "    </tr>\n",
              "  </tbody>\n",
              "</table>\n",
              "</div>"
            ],
            "text/plain": [
              "                 MAE       MoCo       DINO\n",
              "bbox/AP    51.568317  48.808589  47.729175\n",
              "bbox/AP50  72.238651  70.297221  68.117114\n",
              "bbox/AP75  56.585393  53.562847  52.232559\n",
              "bbox/APl   66.360938  64.827569  62.493270\n",
              "bbox/APm   55.043170  52.412641  50.758096\n",
              "bbox/APs   35.274414  32.792464  32.172995"
            ]
          },
          "execution_count": 5,
          "metadata": {},
          "output_type": "execute_result"
        }
      ],
      "source": [
        "df.loc[['bbox/AP', 'bbox/AP50', 'bbox/AP75', 'bbox/APl', 'bbox/APm', 'bbox/APs']]"
      ]
    },
    {
      "cell_type": "code",
      "execution_count": 6,
      "metadata": {},
      "outputs": [
        {
          "data": {
            "text/html": [
              "<div>\n",
              "<style scoped>\n",
              "    .dataframe tbody tr th:only-of-type {\n",
              "        vertical-align: middle;\n",
              "    }\n",
              "\n",
              "    .dataframe tbody tr th {\n",
              "        vertical-align: top;\n",
              "    }\n",
              "\n",
              "    .dataframe thead th {\n",
              "        text-align: right;\n",
              "    }\n",
              "</style>\n",
              "<table border=\"1\" class=\"dataframe\">\n",
              "  <thead>\n",
              "    <tr style=\"text-align: right;\">\n",
              "      <th></th>\n",
              "      <th>MAE</th>\n",
              "      <th>MoCo</th>\n",
              "      <th>DINO</th>\n",
              "    </tr>\n",
              "  </thead>\n",
              "  <tbody>\n",
              "    <tr>\n",
              "      <th>segm/AP</th>\n",
              "      <td>45.842832</td>\n",
              "      <td>43.177882</td>\n",
              "      <td>42.022625</td>\n",
              "    </tr>\n",
              "    <tr>\n",
              "      <th>segm/AP50</th>\n",
              "      <td>69.703137</td>\n",
              "      <td>67.028010</td>\n",
              "      <td>65.558648</td>\n",
              "    </tr>\n",
              "    <tr>\n",
              "      <th>segm/AP75</th>\n",
              "      <td>49.945980</td>\n",
              "      <td>46.579699</td>\n",
              "      <td>45.273586</td>\n",
              "    </tr>\n",
              "    <tr>\n",
              "      <th>segm/APl</th>\n",
              "      <td>63.842282</td>\n",
              "      <td>62.860134</td>\n",
              "      <td>60.029667</td>\n",
              "    </tr>\n",
              "    <tr>\n",
              "      <th>segm/APm</th>\n",
              "      <td>48.769120</td>\n",
              "      <td>46.160463</td>\n",
              "      <td>44.639763</td>\n",
              "    </tr>\n",
              "    <tr>\n",
              "      <th>segm/APs</th>\n",
              "      <td>27.268124</td>\n",
              "      <td>23.782864</td>\n",
              "      <td>24.282897</td>\n",
              "    </tr>\n",
              "  </tbody>\n",
              "</table>\n",
              "</div>"
            ],
            "text/plain": [
              "                 MAE       MoCo       DINO\n",
              "segm/AP    45.842832  43.177882  42.022625\n",
              "segm/AP50  69.703137  67.028010  65.558648\n",
              "segm/AP75  49.945980  46.579699  45.273586\n",
              "segm/APl   63.842282  62.860134  60.029667\n",
              "segm/APm   48.769120  46.160463  44.639763\n",
              "segm/APs   27.268124  23.782864  24.282897"
            ]
          },
          "execution_count": 6,
          "metadata": {},
          "output_type": "execute_result"
        }
      ],
      "source": [
        "df.loc[['segm/AP', 'segm/AP50', 'segm/AP75', 'segm/APl', 'segm/APm', 'segm/APs']]"
      ]
    },
    {
      "cell_type": "code",
      "execution_count": 7,
      "metadata": {},
      "outputs": [],
      "source": [
        "results_pt = {'MoCo': [], 'DINO': [], 'MAE': []}\n",
        "\n",
        "for key in results_pt:\n",
        "    folder_name = \"/checkpoint/sshkhr/experiments/detectron/\" + key.lower() + \"-pt/output/\"\n",
        "    log_file = folder_name + \"metrics.json\"\n",
        "\n",
        "    if os.path.isfile(log_file): \n",
        "        with open(log_file, \"r\") as log:\n",
        "            last_line = log.readlines()[-1]\n",
        "            log_dict = literal_eval(last_line)\n",
        "               \n",
        "    results_pt[key] = log_dict"
      ]
    },
    {
      "cell_type": "code",
      "execution_count": 8,
      "metadata": {},
      "outputs": [],
      "source": [
        "df_pt = pd.DataFrame.from_dict(results_pt['MAE'], orient='index', columns=['MAE'])\n",
        "df_pt['MoCo'] = pd.Series(results_pt['MoCo'])\n",
        "df_pt['DINO'] = pd.Series(results_pt['DINO'])"
      ]
    },
    {
      "cell_type": "code",
      "execution_count": 9,
      "metadata": {},
      "outputs": [
        {
          "data": {
            "text/html": [
              "<div>\n",
              "<style scoped>\n",
              "    .dataframe tbody tr th:only-of-type {\n",
              "        vertical-align: middle;\n",
              "    }\n",
              "\n",
              "    .dataframe tbody tr th {\n",
              "        vertical-align: top;\n",
              "    }\n",
              "\n",
              "    .dataframe thead th {\n",
              "        text-align: right;\n",
              "    }\n",
              "</style>\n",
              "<table border=\"1\" class=\"dataframe\">\n",
              "  <thead>\n",
              "    <tr style=\"text-align: right;\">\n",
              "      <th></th>\n",
              "      <th>MAE</th>\n",
              "      <th>MoCo</th>\n",
              "      <th>DINO</th>\n",
              "    </tr>\n",
              "  </thead>\n",
              "  <tbody>\n",
              "    <tr>\n",
              "      <th>bbox/AP</th>\n",
              "      <td>30.246264</td>\n",
              "      <td>28.746439</td>\n",
              "      <td>32.568707</td>\n",
              "    </tr>\n",
              "    <tr>\n",
              "      <th>bbox/AP50</th>\n",
              "      <td>49.856258</td>\n",
              "      <td>48.812903</td>\n",
              "      <td>53.708847</td>\n",
              "    </tr>\n",
              "    <tr>\n",
              "      <th>bbox/AP75</th>\n",
              "      <td>31.914899</td>\n",
              "      <td>29.858066</td>\n",
              "      <td>34.180488</td>\n",
              "    </tr>\n",
              "    <tr>\n",
              "      <th>bbox/APl</th>\n",
              "      <td>39.931006</td>\n",
              "      <td>40.210933</td>\n",
              "      <td>44.142811</td>\n",
              "    </tr>\n",
              "    <tr>\n",
              "      <th>bbox/APm</th>\n",
              "      <td>32.017861</td>\n",
              "      <td>29.987289</td>\n",
              "      <td>34.586185</td>\n",
              "    </tr>\n",
              "    <tr>\n",
              "      <th>bbox/APs</th>\n",
              "      <td>18.686022</td>\n",
              "      <td>15.497310</td>\n",
              "      <td>19.882592</td>\n",
              "    </tr>\n",
              "  </tbody>\n",
              "</table>\n",
              "</div>"
            ],
            "text/plain": [
              "                 MAE       MoCo       DINO\n",
              "bbox/AP    30.246264  28.746439  32.568707\n",
              "bbox/AP50  49.856258  48.812903  53.708847\n",
              "bbox/AP75  31.914899  29.858066  34.180488\n",
              "bbox/APl   39.931006  40.210933  44.142811\n",
              "bbox/APm   32.017861  29.987289  34.586185\n",
              "bbox/APs   18.686022  15.497310  19.882592"
            ]
          },
          "execution_count": 9,
          "metadata": {},
          "output_type": "execute_result"
        }
      ],
      "source": [
        "df_pt.loc[['bbox/AP', 'bbox/AP50', 'bbox/AP75', 'bbox/APl', 'bbox/APm', 'bbox/APs']]"
      ]
    },
    {
      "cell_type": "code",
      "execution_count": 10,
      "metadata": {},
      "outputs": [
        {
          "data": {
            "text/html": [
              "<div>\n",
              "<style scoped>\n",
              "    .dataframe tbody tr th:only-of-type {\n",
              "        vertical-align: middle;\n",
              "    }\n",
              "\n",
              "    .dataframe tbody tr th {\n",
              "        vertical-align: top;\n",
              "    }\n",
              "\n",
              "    .dataframe thead th {\n",
              "        text-align: right;\n",
              "    }\n",
              "</style>\n",
              "<table border=\"1\" class=\"dataframe\">\n",
              "  <thead>\n",
              "    <tr style=\"text-align: right;\">\n",
              "      <th></th>\n",
              "      <th>MAE</th>\n",
              "      <th>MoCo</th>\n",
              "      <th>DINO</th>\n",
              "    </tr>\n",
              "  </thead>\n",
              "  <tbody>\n",
              "    <tr>\n",
              "      <th>segm/AP</th>\n",
              "      <td>28.557045</td>\n",
              "      <td>26.666945</td>\n",
              "      <td>30.043295</td>\n",
              "    </tr>\n",
              "    <tr>\n",
              "      <th>segm/AP50</th>\n",
              "      <td>47.367876</td>\n",
              "      <td>45.613418</td>\n",
              "      <td>50.631923</td>\n",
              "    </tr>\n",
              "    <tr>\n",
              "      <th>segm/AP75</th>\n",
              "      <td>29.813092</td>\n",
              "      <td>27.368388</td>\n",
              "      <td>30.912970</td>\n",
              "    </tr>\n",
              "    <tr>\n",
              "      <th>segm/APl</th>\n",
              "      <td>41.726654</td>\n",
              "      <td>41.916242</td>\n",
              "      <td>45.774402</td>\n",
              "    </tr>\n",
              "    <tr>\n",
              "      <th>segm/APm</th>\n",
              "      <td>30.083755</td>\n",
              "      <td>27.143376</td>\n",
              "      <td>31.627910</td>\n",
              "    </tr>\n",
              "    <tr>\n",
              "      <th>segm/APs</th>\n",
              "      <td>14.365277</td>\n",
              "      <td>10.890953</td>\n",
              "      <td>14.373841</td>\n",
              "    </tr>\n",
              "  </tbody>\n",
              "</table>\n",
              "</div>"
            ],
            "text/plain": [
              "                 MAE       MoCo       DINO\n",
              "segm/AP    28.557045  26.666945  30.043295\n",
              "segm/AP50  47.367876  45.613418  50.631923\n",
              "segm/AP75  29.813092  27.368388  30.912970\n",
              "segm/APl   41.726654  41.916242  45.774402\n",
              "segm/APm   30.083755  27.143376  31.627910\n",
              "segm/APs   14.365277  10.890953  14.373841"
            ]
          },
          "execution_count": 10,
          "metadata": {},
          "output_type": "execute_result"
        }
      ],
      "source": [
        "df_pt.loc[['segm/AP', 'segm/AP50', 'segm/AP75', 'segm/APl', 'segm/APm', 'segm/APs']]"
      ]
    },
    {
      "attachments": {},
      "cell_type": "markdown",
      "metadata": {},
      "source": [
        "### Results with intermediate layers"
      ]
    },
    {
      "cell_type": "code",
      "execution_count": 11,
      "metadata": {},
      "outputs": [
        {
          "name": "stdout",
          "output_type": "stream",
          "text": [
            "/checkpoint/sshkhr/experiments/detectron/mae-pt/output/metrics.json\n",
            "/checkpoint/sshkhr/experiments/detectron/multi/mae-pt/block9-block11/output/metrics.json\n",
            "/checkpoint/sshkhr/experiments/detectron/multi/mae-pt/block10-block11/output/metrics.json\n",
            "/checkpoint/sshkhr/experiments/detectron/multi/mae-pt/block11-block11/output/metrics.json\n",
            "/checkpoint/sshkhr/experiments/detectron/moco-pt/output/metrics.json\n",
            "/checkpoint/sshkhr/experiments/detectron/multi/moco-pt/block9-block11/output/metrics.json\n",
            "/checkpoint/sshkhr/experiments/detectron/multi/moco-pt/block10-block11/output/metrics.json\n",
            "/checkpoint/sshkhr/experiments/detectron/multi/moco-pt/block11-block11/output/metrics.json\n",
            "/checkpoint/sshkhr/experiments/detectron/dino-pt/output/metrics.json\n",
            "/checkpoint/sshkhr/experiments/detectron/multi/dino-pt/block9-block11/output/metrics.json\n",
            "/checkpoint/sshkhr/experiments/detectron/multi/dino-pt/block10-block11/output/metrics.json\n",
            "/checkpoint/sshkhr/experiments/detectron/multi/dino-pt/block11-block11/output/metrics.json\n"
          ]
        }
      ],
      "source": [
        "resultsint = {'MAE': {}, 'MoCo': {}, 'DINO': {}}\n",
        "\n",
        "\n",
        "for key in resultsint:\n",
        "\n",
        "    folder_name = \"/checkpoint/sshkhr/experiments/detectron/\" + key.lower() + '-pt/output/'\n",
        "    log_file = folder_name + \"metrics.json\"\n",
        "        \n",
        "    log_list = []\n",
        "    print(log_file)\n",
        "    if os.path.isfile(log_file):\n",
        "        with open(log_file, \"r\") as log:\n",
        "            for line in log:\n",
        "                log_dict = literal_eval(line)\n",
        "                if \"bbox/AP\" in log_dict.keys():\n",
        "                    log_list.append(log_dict)\n",
        "    \n",
        "    df = pd.DataFrame(log_list)\n",
        "    df = df.set_index('iteration')\n",
        "    resultsint[key]['only'] = df\n",
        "                    \n",
        "    for i in range(9,12):\n",
        "        folder_name = \"/checkpoint/sshkhr/experiments/detectron/multi/\" + key.lower() + '-pt/block'+str(i)+'-block11/output/'\n",
        "        log_file = folder_name + \"metrics.json\"\n",
        "            \n",
        "        log_list = []\n",
        "        print(log_file)\n",
        "        if os.path.isfile(log_file):\n",
        "            with open(log_file, \"r\") as log:\n",
        "                for line in log:\n",
        "                    log_dict = literal_eval(line)\n",
        "                    if \"bbox/AP\" in log_dict.keys():\n",
        "                        log_list.append(log_dict)\n",
        "                \n",
        "        df = pd.DataFrame(log_list)\n",
        "        df = df.set_index('iteration')\n",
        "        resultsint[key][i] = df"
      ]
    },
    {
      "cell_type": "code",
      "execution_count": 12,
      "metadata": {},
      "outputs": [],
      "source": [
        "def dynamics_plot_individual(fig_dir, df1, name1, col):\n",
        "\n",
        "    if not os.path.exists(fig_dir):\n",
        "        os.makedirs(fig_dir)\n",
        "\n",
        "    fig, ax = plt.subplots(figsize=(12, 9), dpi=300, sharex=True)\n",
        "\n",
        "    colors = sns.color_palette(\"viridis\", n_colors=3)\n",
        "    colors.reverse()\n",
        "\n",
        "    \n",
        "    for i in range(9, 12):\n",
        "        df1[i] = df1[i][~df1[i].index.duplicated(keep='last')]\n",
        "        sns.lineplot(x='iteration', y=col, data = df1[i], color=colors[i-9], label='block.11 + block.'+str(i))\n",
        "\n",
        "    sns.lineplot(x='iteration', y=col, data = df1['only'], color='r', label='block.11 only')\n",
        "\n",
        "    '''\n",
        "    axins = inset_axes(ax,  \"25%\", \"40%\" ,loc=\"upper right\", borderpad=2.5)\n",
        "    sns.lineplot(x='epoch', y=col, data = df1, ax = axins)\n",
        "    sns.lineplot(x='epoch', y=col, data = df2, ax = axins)\n",
        "    sns.lineplot(x='epoch', y=col, data = df3, ax = axins)\n",
        "    axins.set_xlim([0,8])\n",
        "    axins.set_xlabel(\"\")\n",
        "    axins.set_ylabel(\"\")\n",
        "    '''\n",
        "\n",
        "    ax.set_xlabel(\"Mask-RCNN Training Epochs (over frozen ViT backbone)\")\n",
        "    ax.set_ylabel(\"MS-COCO \"+col)\n",
        "    ax.set_title(name1+' intermediate features marginal utility')\n",
        "    \n",
        "    plt.tight_layout()\n",
        "    plt.show()\n",
        "\n",
        "    fig.savefig(fig_dir+name1+'-top1.png')\n",
        "\n",
        "    return fig"
      ]
    },
    {
      "cell_type": "code",
      "execution_count": 13,
      "metadata": {},
      "outputs": [],
      "source": [
        "import itertools"
      ]
    },
    {
      "cell_type": "code",
      "execution_count": null,
      "metadata": {},
      "outputs": [],
      "source": [
        "fig_dir = '../figures/coco-intermediateprobe/detection/'\n",
        "\n",
        "prod = itertools.combinations(results.keys(), 3)\n",
        "\n",
        "for name1 in resultsint.keys():\n",
        "    print(name1)\n",
        "    for col in ['bbox/AP', 'bbox/AP50', 'bbox/AP75', 'bbox/APl', 'bbox/APm', 'bbox/APs']:\n",
        "        full_fig_dir = fig_dir + col + '/'\n",
        "        fig = dynamics_plot_individual(full_fig_dir, resultsint[name1], name1, col=col)"
      ]
    },
    {
      "cell_type": "code",
      "execution_count": null,
      "metadata": {},
      "outputs": [],
      "source": [
        "fig_dir = '../figures/coco-intermediateprobe/segmentation/'\n",
        "\n",
        "prod = itertools.combinations(results.keys(), 3)\n",
        "\n",
        "for name1 in resultsint.keys():\n",
        "    print(name1)\n",
        "    for col in ['segm/AP', 'segm/AP50', 'segm/AP75', 'segm/APl', 'segm/APm', 'segm/APs']:\n",
        "        full_fig_dir = fig_dir + col + '/'\n",
        "        fig = dynamics_plot_individual(full_fig_dir, resultsint[name1], name1, col=col)"
      ]
    },
    {
      "cell_type": "code",
      "execution_count": 16,
      "metadata": {},
      "outputs": [
        {
          "name": "stdout",
          "output_type": "stream",
          "text": [
            "MAE\n",
            "bbox/AP\n",
            "9 bbox/AP 31.46006785889347\n",
            "10 bbox/AP 31.714336591383425\n",
            "11 bbox/AP 30.469099840906537\n",
            "only bbox/AP 30.27726416709634\n",
            "MoCo\n",
            "bbox/AP\n",
            "9 bbox/AP 29.960781288958472\n",
            "10 bbox/AP 20.324329375969487\n",
            "11 bbox/AP 28.921014289504697\n",
            "only bbox/AP 28.75073893277611\n",
            "DINO\n",
            "bbox/AP\n",
            "9 bbox/AP 33.47588381020667\n",
            "10 bbox/AP 32.92049757301459\n",
            "11 bbox/AP 32.8338925638464\n",
            "only bbox/AP 32.568706638529974\n"
          ]
        }
      ],
      "source": [
        "prod = itertools.combinations(results.keys(), 3)\n",
        "\n",
        "for name1 in resultsint.keys():\n",
        "    print(name1)\n",
        "    for col in ['bbox/AP']:#, 'bbox/AP50', 'bbox/AP75', 'bbox/APl', 'bbox/APm', 'bbox/APs']:\n",
        "        print(col)\n",
        "        \n",
        "        for i in range(9, 12):\n",
        "            df = resultsint[name1][i][~resultsint[name1][i].index.duplicated(keep='last')]\n",
        "            print(i, col, df[col].max())\n",
        "\n",
        "        df = resultsint[name1]['only'][~resultsint[name1]['only'].index.duplicated(keep='last')]\n",
        "        print('only', col, df[col].max() )\n",
        "        "
      ]
    },
    {
      "cell_type": "code",
      "execution_count": 18,
      "metadata": {},
      "outputs": [
        {
          "name": "stdout",
          "output_type": "stream",
          "text": [
            "[1.4400000000000013, 1.2100000000000009, 0.9099999999999966]\n"
          ]
        }
      ],
      "source": [
        "l = [31.71 - 30.27, 29.96-28.75, 33.47 - 32.56]\n",
        "print(l)"
      ]
    },
    {
      "cell_type": "code",
      "execution_count": null,
      "metadata": {},
      "outputs": [],
      "source": []
    }
  ],
  "metadata": {
    "accelerator": "GPU",
    "colab": {
      "authorship_tag": "ABX9TyPN0rF6/zxwFPGq0ccUU6IZ",
      "collapsed_sections": [],
      "include_colab_link": true,
      "name": "Reproducing Raghu et al 2021 - ViT vs CNN representations.ipynb",
      "provenance": []
    },
    "interpreter": {
      "hash": "4d63592652b72d6d1212845803c5d9f179006041ae41fea55e5a05839d2c9b62"
    },
    "kernelspec": {
      "display_name": "Python 3.9.12 ('pytorch_env')",
      "language": "python",
      "name": "python3"
    },
    "language_info": {
      "codemirror_mode": {
        "name": "ipython",
        "version": 3
      },
      "file_extension": ".py",
      "mimetype": "text/x-python",
      "name": "python",
      "nbconvert_exporter": "python",
      "pygments_lexer": "ipython3",
      "version": "3.9.12 (main, Apr  5 2022, 06:56:58) \n[GCC 7.5.0]"
    }
  },
  "nbformat": 4,
  "nbformat_minor": 0
}
