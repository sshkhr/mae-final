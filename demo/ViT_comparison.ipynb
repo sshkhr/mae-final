{
  "cells": [
    {
      "cell_type": "code",
      "execution_count": 1,
      "metadata": {
        "id": "3_S20v_iMRFz"
      },
      "outputs": [],
      "source": [
        "from pathlib import Path\n",
        "import os\n",
        "import pandas as pd\n",
        "import sys\n",
        "import requests\n",
        "from functools import partial\n",
        "from tqdm import tqdm\n",
        "\n",
        "import torch\n",
        "import torchvision\n",
        "from torchvision.io import read_image\n",
        "from torch.utils.data import Dataset, DataLoader\n",
        "from torchvision import transforms\n",
        "import torch \n",
        "from einops import rearrange, repeat\n",
        "from loguru import logger\n",
        "from torchmetrics import Metric, BootStrapper\n",
        "import matplotlib.pyplot as plt\n",
        "from PIL import Image\n",
        "import pickle\n",
        "import seaborn as sns\n",
        "from matplotlib.pyplot import figure\n",
        "from cka import gram, centering_mat, centered_gram, unbiased_hsic_xy, MinibatchCKA, HookedCache, make_pairwise_metrics, update_metrics, get_simmat_from_metrics\n",
        "import numpy as np\n",
        "import re\n",
        "\n",
        "os.environ[\"CUDA_DEVICE_ORDER\"] = \"PCI_BUS_ID\"\n",
        "os.environ[\"CUDA_VISIBLE_DEVICES\"] = \"1\"\n",
        "\n",
        "import timm\n",
        "from timm.utils import accuracy\n",
        "from torch.utils.tensorboard import SummaryWriter\n",
        "\n",
        "from get_models import get_model\n",
        "\n",
        "writer = SummaryWriter()\n",
        "\n",
        "DEVICE = torch.device('cpu')\n",
        "if torch.cuda.is_available():\n",
        "  DEVICE = torch.device('cuda')"
      ]
    },
    {
      "cell_type": "markdown",
      "metadata": {},
      "source": [
        "### Create ImageNet validation dataset"
      ]
    },
    {
      "cell_type": "code",
      "execution_count": 2,
      "metadata": {},
      "outputs": [],
      "source": [
        "# using the validation transforms\n",
        "normalize = transforms.Normalize(mean=[0.485, 0.456, 0.406],\n",
        "                                 std=[0.229, 0.224, 0.225])\n",
        "\n",
        "transform = transforms.Compose([\n",
        "            transforms.Resize(256),\n",
        "            transforms.CenterCrop(224),\n",
        "            transforms.ToTensor(),\n",
        "            normalize,\n",
        "        ])\n",
        "\n",
        "## Randomly subsample features too\n",
        "\n",
        "data_path='/datasets01/imagenet_full_size/061417/'\n",
        "dataset = torchvision.datasets.ImageFolder(data_path + 'val', transform=transform)"
      ]
    },
    {
      "cell_type": "code",
      "execution_count": 3,
      "metadata": {},
      "outputs": [],
      "source": [
        "data_loader = torch.utils.data.DataLoader(dataset,\n",
        "                                        batch_size=128,\n",
        "                                        shuffle=False,\n",
        "                                        pin_memory=False)\n",
        "\n",
        "log_every = 10\n",
        "do_log = True"
      ]
    },
    {
      "cell_type": "markdown",
      "metadata": {},
      "source": [
        "### Load pre-trained DINO, Moco-v3, MAE with linear classifiers"
      ]
    },
    {
      "cell_type": "code",
      "execution_count": 4,
      "metadata": {},
      "outputs": [
        {
          "name": "stderr",
          "output_type": "stream",
          "text": [
            "Using cache found in /private/home/sshkhr/.cache/torch/hub/facebookresearch_dino_main\n",
            "/private/home/sshkhr/.conda/envs/pytorch_env/lib/python3.9/site-packages/torch/functional.py:568: UserWarning: torch.meshgrid: in an upcoming release, it will be required to pass the indexing argument. (Triggered internally at  /opt/conda/conda-bld/pytorch_1646756402876/work/aten/src/ATen/native/TensorShape.cpp:2228.)\n",
            "  return _VF.meshgrid(tensors, **kwargs)  # type: ignore[attr-defined]\n",
            "Using cache found in /private/home/sshkhr/.cache/torch/hub/facebookresearch_dino_main\n"
          ]
        }
      ],
      "source": [
        "vitb16_dino = get_model('DINO', 'linear')\n",
        "vitb16_mae = get_model('MAE', 'linear')\n",
        "vitb16_mocov3 = get_model('MoCo-V3', 'linear')\n",
        "vitb16_dino_ft = get_model('DINO', 'finetuned')\n",
        "vitb16_mae_ft = get_model('MAE', 'finetuned')\n",
        "vitb16_mocov3_ft = get_model('MoCo-V3', 'finetuned')\n",
        "vitb16_supervised = get_model('Supervised')"
      ]
    },
    {
      "cell_type": "code",
      "execution_count": 5,
      "metadata": {},
      "outputs": [
        {
          "data": {
            "text/plain": [
              "VisionTransformer(\n",
              "  (patch_embed): PatchEmbed(\n",
              "    (proj): Conv2d(3, 768, kernel_size=(16, 16), stride=(16, 16))\n",
              "    (norm): Identity()\n",
              "  )\n",
              "  (pos_drop): Dropout(p=0.0, inplace=False)\n",
              "  (blocks): Sequential(\n",
              "    (0): Block(\n",
              "      (norm1): LayerNorm((768,), eps=1e-06, elementwise_affine=True)\n",
              "      (attn): Attention(\n",
              "        (qkv): Linear(in_features=768, out_features=2304, bias=True)\n",
              "        (attn_drop): Dropout(p=0.0, inplace=False)\n",
              "        (proj): Linear(in_features=768, out_features=768, bias=True)\n",
              "        (proj_drop): Dropout(p=0.0, inplace=False)\n",
              "      )\n",
              "      (drop_path): Identity()\n",
              "      (norm2): LayerNorm((768,), eps=1e-06, elementwise_affine=True)\n",
              "      (mlp): Mlp(\n",
              "        (fc1): Linear(in_features=768, out_features=3072, bias=True)\n",
              "        (act): GELU()\n",
              "        (drop1): Dropout(p=0.0, inplace=False)\n",
              "        (fc2): Linear(in_features=3072, out_features=768, bias=True)\n",
              "        (drop2): Dropout(p=0.0, inplace=False)\n",
              "      )\n",
              "    )\n",
              "    (1): Block(\n",
              "      (norm1): LayerNorm((768,), eps=1e-06, elementwise_affine=True)\n",
              "      (attn): Attention(\n",
              "        (qkv): Linear(in_features=768, out_features=2304, bias=True)\n",
              "        (attn_drop): Dropout(p=0.0, inplace=False)\n",
              "        (proj): Linear(in_features=768, out_features=768, bias=True)\n",
              "        (proj_drop): Dropout(p=0.0, inplace=False)\n",
              "      )\n",
              "      (drop_path): DropPath()\n",
              "      (norm2): LayerNorm((768,), eps=1e-06, elementwise_affine=True)\n",
              "      (mlp): Mlp(\n",
              "        (fc1): Linear(in_features=768, out_features=3072, bias=True)\n",
              "        (act): GELU()\n",
              "        (drop1): Dropout(p=0.0, inplace=False)\n",
              "        (fc2): Linear(in_features=3072, out_features=768, bias=True)\n",
              "        (drop2): Dropout(p=0.0, inplace=False)\n",
              "      )\n",
              "    )\n",
              "    (2): Block(\n",
              "      (norm1): LayerNorm((768,), eps=1e-06, elementwise_affine=True)\n",
              "      (attn): Attention(\n",
              "        (qkv): Linear(in_features=768, out_features=2304, bias=True)\n",
              "        (attn_drop): Dropout(p=0.0, inplace=False)\n",
              "        (proj): Linear(in_features=768, out_features=768, bias=True)\n",
              "        (proj_drop): Dropout(p=0.0, inplace=False)\n",
              "      )\n",
              "      (drop_path): DropPath()\n",
              "      (norm2): LayerNorm((768,), eps=1e-06, elementwise_affine=True)\n",
              "      (mlp): Mlp(\n",
              "        (fc1): Linear(in_features=768, out_features=3072, bias=True)\n",
              "        (act): GELU()\n",
              "        (drop1): Dropout(p=0.0, inplace=False)\n",
              "        (fc2): Linear(in_features=3072, out_features=768, bias=True)\n",
              "        (drop2): Dropout(p=0.0, inplace=False)\n",
              "      )\n",
              "    )\n",
              "    (3): Block(\n",
              "      (norm1): LayerNorm((768,), eps=1e-06, elementwise_affine=True)\n",
              "      (attn): Attention(\n",
              "        (qkv): Linear(in_features=768, out_features=2304, bias=True)\n",
              "        (attn_drop): Dropout(p=0.0, inplace=False)\n",
              "        (proj): Linear(in_features=768, out_features=768, bias=True)\n",
              "        (proj_drop): Dropout(p=0.0, inplace=False)\n",
              "      )\n",
              "      (drop_path): DropPath()\n",
              "      (norm2): LayerNorm((768,), eps=1e-06, elementwise_affine=True)\n",
              "      (mlp): Mlp(\n",
              "        (fc1): Linear(in_features=768, out_features=3072, bias=True)\n",
              "        (act): GELU()\n",
              "        (drop1): Dropout(p=0.0, inplace=False)\n",
              "        (fc2): Linear(in_features=3072, out_features=768, bias=True)\n",
              "        (drop2): Dropout(p=0.0, inplace=False)\n",
              "      )\n",
              "    )\n",
              "    (4): Block(\n",
              "      (norm1): LayerNorm((768,), eps=1e-06, elementwise_affine=True)\n",
              "      (attn): Attention(\n",
              "        (qkv): Linear(in_features=768, out_features=2304, bias=True)\n",
              "        (attn_drop): Dropout(p=0.0, inplace=False)\n",
              "        (proj): Linear(in_features=768, out_features=768, bias=True)\n",
              "        (proj_drop): Dropout(p=0.0, inplace=False)\n",
              "      )\n",
              "      (drop_path): DropPath()\n",
              "      (norm2): LayerNorm((768,), eps=1e-06, elementwise_affine=True)\n",
              "      (mlp): Mlp(\n",
              "        (fc1): Linear(in_features=768, out_features=3072, bias=True)\n",
              "        (act): GELU()\n",
              "        (drop1): Dropout(p=0.0, inplace=False)\n",
              "        (fc2): Linear(in_features=3072, out_features=768, bias=True)\n",
              "        (drop2): Dropout(p=0.0, inplace=False)\n",
              "      )\n",
              "    )\n",
              "    (5): Block(\n",
              "      (norm1): LayerNorm((768,), eps=1e-06, elementwise_affine=True)\n",
              "      (attn): Attention(\n",
              "        (qkv): Linear(in_features=768, out_features=2304, bias=True)\n",
              "        (attn_drop): Dropout(p=0.0, inplace=False)\n",
              "        (proj): Linear(in_features=768, out_features=768, bias=True)\n",
              "        (proj_drop): Dropout(p=0.0, inplace=False)\n",
              "      )\n",
              "      (drop_path): DropPath()\n",
              "      (norm2): LayerNorm((768,), eps=1e-06, elementwise_affine=True)\n",
              "      (mlp): Mlp(\n",
              "        (fc1): Linear(in_features=768, out_features=3072, bias=True)\n",
              "        (act): GELU()\n",
              "        (drop1): Dropout(p=0.0, inplace=False)\n",
              "        (fc2): Linear(in_features=3072, out_features=768, bias=True)\n",
              "        (drop2): Dropout(p=0.0, inplace=False)\n",
              "      )\n",
              "    )\n",
              "    (6): Block(\n",
              "      (norm1): LayerNorm((768,), eps=1e-06, elementwise_affine=True)\n",
              "      (attn): Attention(\n",
              "        (qkv): Linear(in_features=768, out_features=2304, bias=True)\n",
              "        (attn_drop): Dropout(p=0.0, inplace=False)\n",
              "        (proj): Linear(in_features=768, out_features=768, bias=True)\n",
              "        (proj_drop): Dropout(p=0.0, inplace=False)\n",
              "      )\n",
              "      (drop_path): DropPath()\n",
              "      (norm2): LayerNorm((768,), eps=1e-06, elementwise_affine=True)\n",
              "      (mlp): Mlp(\n",
              "        (fc1): Linear(in_features=768, out_features=3072, bias=True)\n",
              "        (act): GELU()\n",
              "        (drop1): Dropout(p=0.0, inplace=False)\n",
              "        (fc2): Linear(in_features=3072, out_features=768, bias=True)\n",
              "        (drop2): Dropout(p=0.0, inplace=False)\n",
              "      )\n",
              "    )\n",
              "    (7): Block(\n",
              "      (norm1): LayerNorm((768,), eps=1e-06, elementwise_affine=True)\n",
              "      (attn): Attention(\n",
              "        (qkv): Linear(in_features=768, out_features=2304, bias=True)\n",
              "        (attn_drop): Dropout(p=0.0, inplace=False)\n",
              "        (proj): Linear(in_features=768, out_features=768, bias=True)\n",
              "        (proj_drop): Dropout(p=0.0, inplace=False)\n",
              "      )\n",
              "      (drop_path): DropPath()\n",
              "      (norm2): LayerNorm((768,), eps=1e-06, elementwise_affine=True)\n",
              "      (mlp): Mlp(\n",
              "        (fc1): Linear(in_features=768, out_features=3072, bias=True)\n",
              "        (act): GELU()\n",
              "        (drop1): Dropout(p=0.0, inplace=False)\n",
              "        (fc2): Linear(in_features=3072, out_features=768, bias=True)\n",
              "        (drop2): Dropout(p=0.0, inplace=False)\n",
              "      )\n",
              "    )\n",
              "    (8): Block(\n",
              "      (norm1): LayerNorm((768,), eps=1e-06, elementwise_affine=True)\n",
              "      (attn): Attention(\n",
              "        (qkv): Linear(in_features=768, out_features=2304, bias=True)\n",
              "        (attn_drop): Dropout(p=0.0, inplace=False)\n",
              "        (proj): Linear(in_features=768, out_features=768, bias=True)\n",
              "        (proj_drop): Dropout(p=0.0, inplace=False)\n",
              "      )\n",
              "      (drop_path): DropPath()\n",
              "      (norm2): LayerNorm((768,), eps=1e-06, elementwise_affine=True)\n",
              "      (mlp): Mlp(\n",
              "        (fc1): Linear(in_features=768, out_features=3072, bias=True)\n",
              "        (act): GELU()\n",
              "        (drop1): Dropout(p=0.0, inplace=False)\n",
              "        (fc2): Linear(in_features=3072, out_features=768, bias=True)\n",
              "        (drop2): Dropout(p=0.0, inplace=False)\n",
              "      )\n",
              "    )\n",
              "    (9): Block(\n",
              "      (norm1): LayerNorm((768,), eps=1e-06, elementwise_affine=True)\n",
              "      (attn): Attention(\n",
              "        (qkv): Linear(in_features=768, out_features=2304, bias=True)\n",
              "        (attn_drop): Dropout(p=0.0, inplace=False)\n",
              "        (proj): Linear(in_features=768, out_features=768, bias=True)\n",
              "        (proj_drop): Dropout(p=0.0, inplace=False)\n",
              "      )\n",
              "      (drop_path): DropPath()\n",
              "      (norm2): LayerNorm((768,), eps=1e-06, elementwise_affine=True)\n",
              "      (mlp): Mlp(\n",
              "        (fc1): Linear(in_features=768, out_features=3072, bias=True)\n",
              "        (act): GELU()\n",
              "        (drop1): Dropout(p=0.0, inplace=False)\n",
              "        (fc2): Linear(in_features=3072, out_features=768, bias=True)\n",
              "        (drop2): Dropout(p=0.0, inplace=False)\n",
              "      )\n",
              "    )\n",
              "    (10): Block(\n",
              "      (norm1): LayerNorm((768,), eps=1e-06, elementwise_affine=True)\n",
              "      (attn): Attention(\n",
              "        (qkv): Linear(in_features=768, out_features=2304, bias=True)\n",
              "        (attn_drop): Dropout(p=0.0, inplace=False)\n",
              "        (proj): Linear(in_features=768, out_features=768, bias=True)\n",
              "        (proj_drop): Dropout(p=0.0, inplace=False)\n",
              "      )\n",
              "      (drop_path): DropPath()\n",
              "      (norm2): LayerNorm((768,), eps=1e-06, elementwise_affine=True)\n",
              "      (mlp): Mlp(\n",
              "        (fc1): Linear(in_features=768, out_features=3072, bias=True)\n",
              "        (act): GELU()\n",
              "        (drop1): Dropout(p=0.0, inplace=False)\n",
              "        (fc2): Linear(in_features=3072, out_features=768, bias=True)\n",
              "        (drop2): Dropout(p=0.0, inplace=False)\n",
              "      )\n",
              "    )\n",
              "    (11): Block(\n",
              "      (norm1): LayerNorm((768,), eps=1e-06, elementwise_affine=True)\n",
              "      (attn): Attention(\n",
              "        (qkv): Linear(in_features=768, out_features=2304, bias=True)\n",
              "        (attn_drop): Dropout(p=0.0, inplace=False)\n",
              "        (proj): Linear(in_features=768, out_features=768, bias=True)\n",
              "        (proj_drop): Dropout(p=0.0, inplace=False)\n",
              "      )\n",
              "      (drop_path): DropPath()\n",
              "      (norm2): LayerNorm((768,), eps=1e-06, elementwise_affine=True)\n",
              "      (mlp): Mlp(\n",
              "        (fc1): Linear(in_features=768, out_features=3072, bias=True)\n",
              "        (act): GELU()\n",
              "        (drop1): Dropout(p=0.0, inplace=False)\n",
              "        (fc2): Linear(in_features=3072, out_features=768, bias=True)\n",
              "        (drop2): Dropout(p=0.0, inplace=False)\n",
              "      )\n",
              "    )\n",
              "  )\n",
              "  (norm): LayerNorm((768,), eps=1e-06, elementwise_affine=True)\n",
              "  (pre_logits): Identity()\n",
              "  (head): Linear(in_features=768, out_features=1000, bias=True)\n",
              ")"
            ]
          },
          "execution_count": 5,
          "metadata": {},
          "output_type": "execute_result"
        }
      ],
      "source": [
        "vitb16_dino.to(DEVICE)\n",
        "vitb16_mae.to(DEVICE)\n",
        "vitb16_mocov3.to(DEVICE)\n",
        "vitb16_dino_ft.to(DEVICE)\n",
        "vitb16_mae_ft.to(DEVICE)\n",
        "vitb16_mocov3_ft.to(DEVICE)\n",
        "vitb16_supervised.to(DEVICE)\n",
        "\n",
        "vitb16_supervised.eval()\n",
        "vitb16_dino.eval()\n",
        "vitb16_mae.eval()\n",
        "vitb16_mocov3.eval()\n",
        "vitb16_dino_ft.eval()\n",
        "vitb16_mae_ft.eval()\n",
        "vitb16_mocov3_ft.eval()"
      ]
    },
    {
      "cell_type": "markdown",
      "metadata": {},
      "source": [
        "### Validate on ImageNet test set"
      ]
    },
    {
      "cell_type": "code",
      "execution_count": 6,
      "metadata": {},
      "outputs": [],
      "source": [
        "def validate(dataloader, model, device):\n",
        "\n",
        "    results = torch.zeros(len(dataloader.dataset), 2)\n",
        "    rankings = torch.zeros(len(dataloader.dataset), 1000)\n",
        "\n",
        "    with torch.no_grad():\n",
        "        \n",
        "        # use with one image per batch\n",
        "        for it, [batch, target] in enumerate(tqdm(dataloader)):\n",
        "            batch = batch.to(device)\n",
        "            target = target.to(device)\n",
        "            output = model(batch)\n",
        "            \n",
        "            batch_size = target.size(0)\n",
        "\n",
        "            \n",
        "            _, pred = output.topk(5, 1, True, True)\n",
        "            pred = pred.t()\n",
        "            correct = pred.eq(target.view(1, -1).expand_as(pred))\n",
        "            \n",
        "            results[it*batch_size:(it+1)*batch_size, 0] = correct[:1].view(-1).float() \n",
        "            results[it*batch_size:(it+1)*batch_size, 1] = correct[:5].sum(0).view(-1).float()\n",
        "            \n",
        "\n",
        "            _, rankings[it*batch_size:(it+1)*batch_size, :] = output.topk(1000, 1, True, True)\n",
        "\n",
        "    return results, rankings"
      ]
    },
    {
      "cell_type": "code",
      "execution_count": null,
      "metadata": {},
      "outputs": [],
      "source": [
        "moco_results, moco_ranks = validate(data_loader, vitb16_mocov3, DEVICE)"
      ]
    },
    {
      "cell_type": "code",
      "execution_count": null,
      "metadata": {},
      "outputs": [],
      "source": [
        "dino_results, dino_ranks = validate(data_loader, vitb16_dino, DEVICE)"
      ]
    },
    {
      "cell_type": "code",
      "execution_count": null,
      "metadata": {},
      "outputs": [],
      "source": [
        "mae_results, mae_ranks = validate(data_loader, vitb16_mae, DEVICE)"
      ]
    },
    {
      "cell_type": "code",
      "execution_count": null,
      "metadata": {},
      "outputs": [],
      "source": [
        "moco_results_ft, moco_ranks_ft = validate(data_loader, vitb16_mocov3_ft, DEVICE)"
      ]
    },
    {
      "cell_type": "code",
      "execution_count": null,
      "metadata": {},
      "outputs": [],
      "source": [
        "dino_results_ft, dino_ranks_ft = validate(data_loader, vitb16_dino_ft, DEVICE)"
      ]
    },
    {
      "cell_type": "code",
      "execution_count": null,
      "metadata": {},
      "outputs": [],
      "source": [
        "mae_results_ft, mae_ranks_ft = validate(data_loader, vitb16_mae_ft, DEVICE)"
      ]
    },
    {
      "cell_type": "code",
      "execution_count": null,
      "metadata": {},
      "outputs": [],
      "source": [
        "supervised_results, supervised_ranks = validate(data_loader, vitb16_supervised, DEVICE)"
      ]
    },
    {
      "cell_type": "code",
      "execution_count": 11,
      "metadata": {},
      "outputs": [],
      "source": [
        "dic = {'supervised': [supervised_results, supervised_ranks],\n",
        "       'MAE': [mae_results, mae_ranks],\n",
        "       'DINO': [dino_results, dino_ranks],\n",
        "       'MoCo-V3': [moco_results, moco_ranks],\n",
        "       'MAE-FT': [mae_results_ft, mae_ranks_ft],\n",
        "       'DINO-FT': [dino_results_ft, dino_ranks_ft],\n",
        "       'MoCo-V3-FT': [moco_results_ft, moco_ranks_ft],\n",
        "        }"
      ]
    },
    {
      "cell_type": "markdown",
      "metadata": {},
      "source": [
        "import pickle\n",
        "\n",
        "pickle.dump(dic, open(\"ranks_and_results.pkl\", \"wb\" ))"
      ]
    },
    {
      "cell_type": "code",
      "execution_count": 6,
      "metadata": {},
      "outputs": [],
      "source": [
        "import pickle\n",
        "\n",
        "with open('ranks_and_results.pkl', 'rb') as f:\n",
        "    dic = pickle.load(f)"
      ]
    },
    {
      "cell_type": "code",
      "execution_count": 7,
      "metadata": {},
      "outputs": [],
      "source": [
        "supervised_results, supervised_ranks = dic['supervised']\n",
        "mae_results, mae_ranks = dic['MAE']\n",
        "dino_results, dino_ranks = dic['DINO']\n",
        "moco_results, moco_ranks = dic['MoCo-V3']\n",
        "mae_results_ft, mae_ranks_ft = dic['MAE-FT']\n",
        "dino_results_ft, dino_ranks_ft = dic['DINO-FT']\n",
        "moco_results_ft, moco_ranks_ft = dic['MoCo-V3-FT']\n"
      ]
    },
    {
      "cell_type": "markdown",
      "metadata": {},
      "source": [
        "## Compare results"
      ]
    },
    {
      "cell_type": "code",
      "execution_count": 10,
      "metadata": {},
      "outputs": [
        {
          "name": "stdout",
          "output_type": "stream",
          "text": [
            "tensor(0.7654) tensor(0.9312)\n",
            "tensor(0.7787) tensor(0.9371)\n",
            "tensor(0.6731) tensor(0.8734)\n",
            "tensor(0.8094) tensor(0.9516)\n",
            "tensor(0.8276) tensor(0.9607)\n",
            "tensor(0.8247) tensor(0.9591)\n",
            "tensor(0.8344) tensor(0.9644)\n"
          ]
        }
      ],
      "source": [
        "print(moco_results[:, 0].sum()/50000., moco_results[:, 1].sum()/50000.)\n",
        "print(dino_results[:, 0].sum()/50000., dino_results[:, 1].sum()/50000.) # looks like DINO linear model didn't load correctly\n",
        "print(mae_results[:, 0].sum()/50000., mae_results[:, 1].sum()/50000.)\n",
        "print(supervised_results[:, 0].sum()/50000., supervised_results[:, 1].sum()/50000.)\n",
        "\n",
        "print(moco_results_ft[:, 0].sum()/50000., moco_results_ft[:, 1].sum()/50000.)\n",
        "print(dino_results_ft[:, 0].sum()/50000., dino_results_ft[:, 1].sum()/50000.)\n",
        "print(mae_results_ft[:, 0].sum()/50000., mae_results_ft[:, 1].sum()/50000.)"
      ]
    },
    {
      "cell_type": "code",
      "execution_count": 11,
      "metadata": {},
      "outputs": [],
      "source": [
        "def get_matrix(results1, results2, top=1):\n",
        "    results1 = results1[:, 0] if top==1 else results1[:,1]\n",
        "    results2 = results2[:, 0] if top==1 else results2[:,1]\n",
        "\n",
        "    matrix = np.zeros((2, 2))\n",
        "\n",
        "    results1 = results1.numpy()\n",
        "    results2 = results2.numpy()\n",
        "\n",
        "    matrix[0, 0] = np.sum(np.logical_and(results1 == 0, results2 == 0))\n",
        "    matrix[0, 1] = np.sum(np.logical_and(results1 == 0, results2 == 1))\n",
        "    matrix[1, 0] = np.sum(np.logical_and(results1 == 1, results2 == 0))\n",
        "    matrix[1, 1] = np.sum(np.logical_and(results1 == 1, results2 == 1))\n",
        "    \n",
        "    return matrix/50000."
      ]
    },
    {
      "cell_type": "code",
      "execution_count": 8,
      "metadata": {},
      "outputs": [],
      "source": [
        "from itertools import product"
      ]
    },
    {
      "cell_type": "code",
      "execution_count": 9,
      "metadata": {},
      "outputs": [],
      "source": [
        "keys = list(dic.keys())"
      ]
    },
    {
      "cell_type": "code",
      "execution_count": 10,
      "metadata": {},
      "outputs": [
        {
          "name": "stdout",
          "output_type": "stream",
          "text": [
            "Top 1 supervised - MAE \n",
            " [[0.15968 0.03096]\n",
            " [0.16726 0.6421 ]]\n",
            "Top 5 supervised - MAE \n",
            " [[0.0378  0.01056]\n",
            " [0.08882 0.86282]]\n",
            "Top 1 supervised - DINO \n",
            " [[0.15174 0.0389 ]\n",
            " [0.06952 0.73984]]\n",
            "Top 5 supervised - DINO \n",
            " [[0.03442 0.01394]\n",
            " [0.0285  0.92314]]\n",
            "Top 1 supervised - MoCo-V3 \n",
            " [[0.15238 0.03826]\n",
            " [0.08222 0.72714]]\n",
            "Top 5 supervised - MoCo-V3 \n",
            " [[0.03562 0.01274]\n",
            " [0.0332  0.91844]]\n",
            "Top 1 supervised - MAE-FT \n",
            " [[0.13486 0.05578]\n",
            " [0.03074 0.77862]]\n",
            "Top 5 supervised - MAE-FT \n",
            " [[0.02706 0.0213 ]\n",
            " [0.00852 0.94312]]\n",
            "Top 1 supervised - DINO-FT \n",
            " [[0.14246 0.04818]\n",
            " [0.03288 0.77648]]\n",
            "Top 5 supervised - DINO-FT \n",
            " [[0.03054 0.01782]\n",
            " [0.01034 0.9413 ]]\n",
            "Top 1 supervised - MoCo-V3-FT \n",
            " [[0.14116 0.04948]\n",
            " [0.03128 0.77808]]\n",
            "Top 5 supervised - MoCo-V3-FT \n",
            " [[0.02938 0.01898]\n",
            " [0.00988 0.94176]]\n",
            "Top 1 MAE - DINO \n",
            " [[0.18406 0.14288]\n",
            " [0.0372  0.63586]]\n",
            "Top 5 MAE - DINO \n",
            " [[0.0507  0.07592]\n",
            " [0.01222 0.86116]]\n",
            "Top 1 MAE - MoCo-V3 \n",
            " [[0.1944  0.13254]\n",
            " [0.0402  0.63286]]\n",
            "Top 5 MAE - MoCo-V3 \n",
            " [[0.05484 0.07178]\n",
            " [0.01398 0.8594 ]]\n",
            "Top 1 MAE - MAE-FT \n",
            " [[0.14266 0.18428]\n",
            " [0.02294 0.65012]]\n",
            "Top 5 MAE - MAE-FT \n",
            " [[0.02878 0.09784]\n",
            " [0.0068  0.86658]]\n",
            "Top 1 MAE - DINO-FT \n",
            " [[0.1485  0.17844]\n",
            " [0.02684 0.64622]]\n",
            "Top 5 MAE - DINO-FT \n",
            " [[0.03238 0.09424]\n",
            " [0.0085  0.86488]]\n",
            "Top 1 MAE - MoCo-V3-FT \n",
            " [[0.14634 0.1806 ]\n",
            " [0.0261  0.64696]]\n",
            "Top 5 MAE - MoCo-V3-FT \n",
            " [[0.0314  0.09522]\n",
            " [0.00786 0.86552]]\n",
            "Top 1 DINO - MoCo-V3 \n",
            " [[0.17704 0.04422]\n",
            " [0.05756 0.72118]]\n",
            "Top 5 DINO - MoCo-V3 \n",
            " [[0.04746 0.01546]\n",
            " [0.02136 0.91572]]\n",
            "Top 1 DINO - MAE-FT \n",
            " [[0.13646 0.0848 ]\n",
            " [0.02914 0.7496 ]]\n",
            "Top 5 DINO - MAE-FT \n",
            " [[0.02744 0.03548]\n",
            " [0.00814 0.92894]]\n",
            "Top 1 DINO - DINO-FT \n",
            " [[0.14364 0.07762]\n",
            " [0.0317  0.74704]]\n",
            "Top 5 DINO - DINO-FT \n",
            " [[0.03078 0.03214]\n",
            " [0.0101  0.92698]]\n",
            "Top 1 DINO - MoCo-V3-FT \n",
            " [[0.14254 0.07872]\n",
            " [0.0299  0.74884]]\n",
            "Top 5 DINO - MoCo-V3-FT \n",
            " [[0.02958 0.03334]\n",
            " [0.00968 0.9274 ]]\n",
            "Top 1 MoCo-V3 - MAE-FT \n",
            " [[0.13598 0.09862]\n",
            " [0.02962 0.73578]]\n",
            "Top 5 MoCo-V3 - MAE-FT \n",
            " [[0.02798 0.04084]\n",
            " [0.0076  0.92358]]\n",
            "Top 1 MoCo-V3 - DINO-FT \n",
            " [[0.14364 0.09096]\n",
            " [0.0317  0.7337 ]]\n",
            "Top 5 MoCo-V3 - DINO-FT \n",
            " [[0.0312  0.03762]\n",
            " [0.00968 0.9215 ]]\n",
            "Top 1 MoCo-V3 - MoCo-V3-FT \n",
            " [[0.1429  0.0917 ]\n",
            " [0.02954 0.73586]]\n",
            "Top 5 MoCo-V3 - MoCo-V3-FT \n",
            " [[0.03    0.03882]\n",
            " [0.00926 0.92192]]\n",
            "Top 1 MAE-FT - DINO-FT \n",
            " [[0.13438 0.03122]\n",
            " [0.04096 0.79344]]\n",
            "Top 5 MAE-FT - DINO-FT \n",
            " [[0.02614 0.00944]\n",
            " [0.01474 0.94968]]\n",
            "Top 1 MAE-FT - MoCo-V3-FT \n",
            " [[0.13294 0.03266]\n",
            " [0.0395  0.7949 ]]\n",
            "Top 5 MAE-FT - MoCo-V3-FT \n",
            " [[0.0259  0.00968]\n",
            " [0.01336 0.95106]]\n",
            "Top 1 DINO-FT - MoCo-V3-FT \n",
            " [[0.1412  0.03414]\n",
            " [0.03124 0.79342]]\n",
            "Top 5 DINO-FT - MoCo-V3-FT \n",
            " [[0.02884 0.01204]\n",
            " [0.01042 0.9487 ]]\n"
          ]
        }
      ],
      "source": [
        "for index, key1 in enumerate(keys):\n",
        "    for key2 in keys[index+1:]:\n",
        "        matrix_1 = get_matrix(dic[key1][0], dic[key2][0], 1)\n",
        "        print('Top 1', key1,'-',key2,'\\n',matrix_1)\n",
        "        matrix_5 = get_matrix(dic[key1][0], dic[key2][0], 5)\n",
        "        print('Top 5', key1,'-',key2,'\\n',matrix_5)\n"
      ]
    },
    {
      "cell_type": "markdown",
      "metadata": {},
      "source": [
        "### Get Hamming Distances"
      ]
    },
    {
      "cell_type": "code",
      "execution_count": 11,
      "metadata": {},
      "outputs": [],
      "source": [
        "from scipy.spatial.distance import hamming"
      ]
    },
    {
      "cell_type": "code",
      "execution_count": 12,
      "metadata": {},
      "outputs": [
        {
          "name": "stdout",
          "output_type": "stream",
          "text": [
            "Hamming Distance Top-1 supervised - MAE = 0.19822\n",
            "Hamming Distance Top-5 supervised - MAE = 0.09938\n",
            "Hamming Distance Top-1 supervised - DINO = 0.10842\n",
            "Hamming Distance Top-5 supervised - DINO = 0.04244\n",
            "Hamming Distance Top-1 supervised - MoCo-V3 = 0.12048\n",
            "Hamming Distance Top-5 supervised - MoCo-V3 = 0.04594\n",
            "Hamming Distance Top-1 supervised - MAE-FT = 0.08652\n",
            "Hamming Distance Top-5 supervised - MAE-FT = 0.02982\n",
            "Hamming Distance Top-1 supervised - DINO-FT = 0.08106\n",
            "Hamming Distance Top-5 supervised - DINO-FT = 0.02816\n",
            "Hamming Distance Top-1 supervised - MoCo-V3-FT = 0.08076\n",
            "Hamming Distance Top-5 supervised - MoCo-V3-FT = 0.02886\n",
            "Hamming Distance Top-1 MAE - DINO = 0.18008\n",
            "Hamming Distance Top-5 MAE - DINO = 0.08814\n",
            "Hamming Distance Top-1 MAE - MoCo-V3 = 0.17274\n",
            "Hamming Distance Top-5 MAE - MoCo-V3 = 0.08576\n",
            "Hamming Distance Top-1 MAE - MAE-FT = 0.20722\n",
            "Hamming Distance Top-5 MAE - MAE-FT = 0.10464\n",
            "Hamming Distance Top-1 MAE - DINO-FT = 0.20528\n",
            "Hamming Distance Top-5 MAE - DINO-FT = 0.10274\n",
            "Hamming Distance Top-1 MAE - MoCo-V3-FT = 0.2067\n",
            "Hamming Distance Top-5 MAE - MoCo-V3-FT = 0.10308\n",
            "Hamming Distance Top-1 DINO - MoCo-V3 = 0.10178\n",
            "Hamming Distance Top-5 DINO - MoCo-V3 = 0.03682\n",
            "Hamming Distance Top-1 DINO - MAE-FT = 0.11394\n",
            "Hamming Distance Top-5 DINO - MAE-FT = 0.04362\n",
            "Hamming Distance Top-1 DINO - DINO-FT = 0.10932\n",
            "Hamming Distance Top-5 DINO - DINO-FT = 0.04224\n",
            "Hamming Distance Top-1 DINO - MoCo-V3-FT = 0.10862\n",
            "Hamming Distance Top-5 DINO - MoCo-V3-FT = 0.04302\n",
            "Hamming Distance Top-1 MoCo-V3 - MAE-FT = 0.12824\n",
            "Hamming Distance Top-5 MoCo-V3 - MAE-FT = 0.04844\n",
            "Hamming Distance Top-1 MoCo-V3 - DINO-FT = 0.12266\n",
            "Hamming Distance Top-5 MoCo-V3 - DINO-FT = 0.0473\n",
            "Hamming Distance Top-1 MoCo-V3 - MoCo-V3-FT = 0.12124\n",
            "Hamming Distance Top-5 MoCo-V3 - MoCo-V3-FT = 0.04808\n",
            "Hamming Distance Top-1 MAE-FT - DINO-FT = 0.07218\n",
            "Hamming Distance Top-5 MAE-FT - DINO-FT = 0.02418\n",
            "Hamming Distance Top-1 MAE-FT - MoCo-V3-FT = 0.07216\n",
            "Hamming Distance Top-5 MAE-FT - MoCo-V3-FT = 0.02304\n",
            "Hamming Distance Top-1 DINO-FT - MoCo-V3-FT = 0.06538\n",
            "Hamming Distance Top-5 DINO-FT - MoCo-V3-FT = 0.02246\n"
          ]
        }
      ],
      "source": [
        "for index, key1 in enumerate(keys):\n",
        "    for key2 in keys[index+1:]:\n",
        "        dist1 = hamming(dic[key1][0][:, 0], dic[key2][0][:, 0])\n",
        "        print('Hamming Distance Top-1', key1,'-',key2,'=',dist1)\n",
        "        dist5 = hamming(dic[key1][0][:, 1], dic[key2][0][:, 1])\n",
        "        print('Hamming Distance Top-5', key1,'-',key2,'=',dist5)  "
      ]
    },
    {
      "cell_type": "markdown",
      "metadata": {},
      "source": [
        "## Compare failure modes"
      ]
    },
    {
      "cell_type": "code",
      "execution_count": 12,
      "metadata": {},
      "outputs": [],
      "source": [
        "from scipy.stats import kendalltau"
      ]
    },
    {
      "cell_type": "code",
      "execution_count": 13,
      "metadata": {},
      "outputs": [],
      "source": [
        "from tqdm import tqdm"
      ]
    },
    {
      "cell_type": "code",
      "execution_count": 14,
      "metadata": {},
      "outputs": [],
      "source": [
        "def avg_kt(ranks1, ranks2, top=5, wrong_only=False):\n",
        "\n",
        "    sum = 0.\n",
        "\n",
        "    for sample in range(len(ranks1)):\n",
        "        rank_sim = kendalltau(ranks1[sample, :top], ranks2[sample, :top])\n",
        "        corr = rank_sim[0]\n",
        "        if not np.isnan(corr):\n",
        "            sum += corr\n",
        "\n",
        "    return sum/50000."
      ]
    },
    {
      "cell_type": "code",
      "execution_count": 15,
      "metadata": {},
      "outputs": [
        {
          "name": "stdout",
          "output_type": "stream",
          "text": [
            "Average Kendall-Tau Top-5 supervised - MAE = 0.127656000000001\n",
            "Average Kendall-Tau Top-10 supervised - MAE = 0.06569333333333374\n",
            "Average Kendall-Tau Top-100 supervised - MAE = 0.02158213333333343\n",
            "Average Kendall-Tau Top-5 supervised - DINO = 0.18803600000000112\n",
            "Average Kendall-Tau Top-10 supervised - DINO = 0.09634133333333386\n",
            "Average Kendall-Tau Top-100 supervised - DINO = 0.02781517575757575\n",
            "Average Kendall-Tau Top-5 supervised - MoCo-V3 = 0.1812800000000016\n",
            "Average Kendall-Tau Top-10 supervised - MoCo-V3 = 0.09365244444444404\n",
            "Average Kendall-Tau Top-100 supervised - MoCo-V3 = 0.02704848484848447\n",
            "Average Kendall-Tau Top-5 supervised - MAE-FT = 0.22474399999999792\n",
            "Average Kendall-Tau Top-10 supervised - MAE-FT = 0.11440888888888727\n",
            "Average Kendall-Tau Top-100 supervised - MAE-FT = 0.03443250101010133\n",
            "Average Kendall-Tau Top-5 supervised - DINO-FT = 0.2333199999999968\n",
            "Average Kendall-Tau Top-10 supervised - DINO-FT = 0.11781688888888542\n",
            "Average Kendall-Tau Top-100 supervised - DINO-FT = 0.03534438787878798\n",
            "Average Kendall-Tau Top-5 supervised - MoCo-V3-FT = 0.234371999999994\n",
            "Average Kendall-Tau Top-10 supervised - MoCo-V3-FT = 0.12139022222221767\n",
            "Average Kendall-Tau Top-100 supervised - MoCo-V3-FT = 0.03542778989898996\n",
            "Average Kendall-Tau Top-5 MAE - DINO = 0.1687320000000024\n",
            "Average Kendall-Tau Top-10 MAE - DINO = 0.09120088888888944\n",
            "Average Kendall-Tau Top-100 MAE - DINO = 0.031018286868686233\n",
            "Average Kendall-Tau Top-5 MAE - MoCo-V3 = 0.16192000000000323\n",
            "Average Kendall-Tau Top-10 MAE - MoCo-V3 = 0.08795911111111207\n",
            "Average Kendall-Tau Top-100 MAE - MoCo-V3 = 0.030167975757576154\n",
            "Average Kendall-Tau Top-5 MAE - MAE-FT = 0.1305680000000007\n",
            "Average Kendall-Tau Top-10 MAE - MAE-FT = 0.06716000000000041\n",
            "Average Kendall-Tau Top-100 MAE - MAE-FT = 0.021422440404040566\n",
            "Average Kendall-Tau Top-5 MAE - DINO-FT = 0.12699200000000063\n",
            "Average Kendall-Tau Top-10 MAE - DINO-FT = 0.06533066666666738\n",
            "Average Kendall-Tau Top-100 MAE - DINO-FT = 0.020689785858585837\n",
            "Average Kendall-Tau Top-5 MAE - MoCo-V3-FT = 0.12690000000000043\n",
            "Average Kendall-Tau Top-10 MAE - MoCo-V3-FT = 0.0652560000000007\n",
            "Average Kendall-Tau Top-100 MAE - MoCo-V3-FT = 0.021358238383838348\n",
            "Average Kendall-Tau Top-5 DINO - MoCo-V3 = 0.25508399999999315\n",
            "Average Kendall-Tau Top-10 DINO - MoCo-V3 = 0.13913155555554996\n",
            "Average Kendall-Tau Top-100 DINO - MoCo-V3 = 0.03906272323232304\n",
            "Average Kendall-Tau Top-5 DINO - MAE-FT = 0.18935600000000016\n",
            "Average Kendall-Tau Top-10 DINO - MAE-FT = 0.0966897777777792\n",
            "Average Kendall-Tau Top-100 DINO - MAE-FT = 0.02623846464646435\n",
            "Average Kendall-Tau Top-5 DINO - DINO-FT = 0.190404000000001\n",
            "Average Kendall-Tau Top-10 DINO - DINO-FT = 0.09534222222222279\n",
            "Average Kendall-Tau Top-100 DINO - DINO-FT = 0.026104905050505223\n",
            "Average Kendall-Tau Top-5 DINO - MoCo-V3-FT = 0.18773600000000196\n",
            "Average Kendall-Tau Top-10 DINO - MoCo-V3-FT = 0.09528355555555584\n",
            "Average Kendall-Tau Top-100 DINO - MoCo-V3-FT = 0.026448654545454482\n",
            "Average Kendall-Tau Top-5 MoCo-V3 - MAE-FT = 0.18655999999999986\n",
            "Average Kendall-Tau Top-10 MoCo-V3 - MAE-FT = 0.09571822222222207\n",
            "Average Kendall-Tau Top-100 MoCo-V3 - MAE-FT = 0.026068557575757722\n",
            "Average Kendall-Tau Top-5 MoCo-V3 - DINO-FT = 0.18294400000000077\n",
            "Average Kendall-Tau Top-10 MoCo-V3 - DINO-FT = 0.09280622222222311\n",
            "Average Kendall-Tau Top-100 MoCo-V3 - DINO-FT = 0.026255369696969684\n",
            "Average Kendall-Tau Top-5 MoCo-V3 - MoCo-V3-FT = 0.1860520000000008\n",
            "Average Kendall-Tau Top-10 MoCo-V3 - MoCo-V3-FT = 0.09374666666666696\n",
            "Average Kendall-Tau Top-100 MoCo-V3 - MoCo-V3-FT = 0.02572962424242425\n",
            "Average Kendall-Tau Top-5 MAE-FT - DINO-FT = 0.2428239999999953\n",
            "Average Kendall-Tau Top-10 MAE-FT - DINO-FT = 0.12387199999999596\n",
            "Average Kendall-Tau Top-100 MAE-FT - DINO-FT = 0.03650314343434336\n",
            "Average Kendall-Tau Top-5 MAE-FT - MoCo-V3-FT = 0.25056399999999146\n",
            "Average Kendall-Tau Top-10 MAE-FT - MoCo-V3-FT = 0.12712355555555055\n",
            "Average Kendall-Tau Top-100 MAE-FT - MoCo-V3-FT = 0.035969737373737064\n",
            "Average Kendall-Tau Top-5 DINO-FT - MoCo-V3-FT = 0.2644519999999921\n",
            "Average Kendall-Tau Top-10 DINO-FT - MoCo-V3-FT = 0.13470933333332707\n",
            "Average Kendall-Tau Top-100 DINO-FT - MoCo-V3-FT = 0.03718358787878834\n"
          ]
        }
      ],
      "source": [
        "for index, key1 in enumerate(keys):\n",
        "    for key2 in keys[index+1:]:\n",
        "        top_5 = avg_kt(dic[key1][1], dic[key2][1])\n",
        "        print('Average Kendall-Tau Top-5', key1,'-',key2,'=',top_5)\n",
        "        top_10 = avg_kt(dic[key1][1], dic[key2][1], 10)\n",
        "        print('Average Kendall-Tau Top-10', key1,'-',key2,'=',top_10)\n",
        "        top_100 = avg_kt(dic[key1][1], dic[key2][1], 100)\n",
        "        print('Average Kendall-Tau Top-100', key1,'-',key2,'=',top_100)"
      ]
    },
    {
      "cell_type": "markdown",
      "metadata": {},
      "source": [
        "## Pair-wise Correct Predictions"
      ]
    },
    {
      "cell_type": "code",
      "execution_count": 16,
      "metadata": {},
      "outputs": [],
      "source": [
        "labels = [x[1] for x in data_loader.dataset.samples]"
      ]
    },
    {
      "cell_type": "code",
      "execution_count": 17,
      "metadata": {},
      "outputs": [
        {
          "name": "stdout",
          "output_type": "stream",
          "text": [
            "Average Kendall-Tau Top-5 supervised - MAE = 0.11540000000000031\n",
            "Average Kendall-Tau Top-10 supervised - MAE = 0.05534088888888877\n",
            "Average Kendall-Tau Top-100 supervised - MAE = 0.014563434343434304\n",
            "Average Kendall-Tau Top-5 supervised - DINO = 0.16549600000000184\n",
            "Average Kendall-Tau Top-10 supervised - DINO = 0.08069511111111273\n",
            "Average Kendall-Tau Top-100 supervised - DINO = 0.021078658585858688\n",
            "Average Kendall-Tau Top-5 supervised - MoCo-V3 = 0.15955200000000327\n",
            "Average Kendall-Tau Top-10 supervised - MoCo-V3 = 0.07757822222222344\n",
            "Average Kendall-Tau Top-100 supervised - MoCo-V3 = 0.020346359595959505\n",
            "Average Kendall-Tau Top-5 supervised - MAE-FT = 0.19584400000000132\n",
            "Average Kendall-Tau Top-10 supervised - MAE-FT = 0.09577555555555588\n",
            "Average Kendall-Tau Top-100 supervised - MAE-FT = 0.02638634343434363\n",
            "Average Kendall-Tau Top-5 supervised - DINO-FT = 0.20265999999999934\n",
            "Average Kendall-Tau Top-10 supervised - DINO-FT = 0.09879466666666627\n",
            "Average Kendall-Tau Top-100 supervised - DINO-FT = 0.027317616161616383\n",
            "Average Kendall-Tau Top-5 supervised - MoCo-V3-FT = 0.20233199999999943\n",
            "Average Kendall-Tau Top-10 supervised - MoCo-V3-FT = 0.10113333333333215\n",
            "Average Kendall-Tau Top-100 supervised - MoCo-V3-FT = 0.027142399999999955\n",
            "Average Kendall-Tau Top-5 MAE - DINO = 0.14875600000000283\n",
            "Average Kendall-Tau Top-10 MAE - DINO = 0.07497911111111277\n",
            "Average Kendall-Tau Top-100 MAE - DINO = 0.02260703838383853\n",
            "Average Kendall-Tau Top-5 MAE - MoCo-V3 = 0.14377200000000168\n",
            "Average Kendall-Tau Top-10 MAE - MoCo-V3 = 0.07361911111111251\n",
            "Average Kendall-Tau Top-100 MAE - MoCo-V3 = 0.02138037171717179\n",
            "Average Kendall-Tau Top-5 MAE - MAE-FT = 0.11878400000000003\n",
            "Average Kendall-Tau Top-10 MAE - MAE-FT = 0.057251555555555445\n",
            "Average Kendall-Tau Top-100 MAE - MAE-FT = 0.014877979797979756\n",
            "Average Kendall-Tau Top-5 MAE - DINO-FT = 0.11522000000000011\n",
            "Average Kendall-Tau Top-10 MAE - DINO-FT = 0.05432311111111094\n",
            "Average Kendall-Tau Top-100 MAE - DINO-FT = 0.014055216161616238\n",
            "Average Kendall-Tau Top-5 MAE - MoCo-V3-FT = 0.11600800000000089\n",
            "Average Kendall-Tau Top-10 MAE - MoCo-V3-FT = 0.05525155555555577\n",
            "Average Kendall-Tau Top-100 MAE - MoCo-V3-FT = 0.014483272727272827\n",
            "Average Kendall-Tau Top-5 DINO - MoCo-V3 = 0.2208039999999977\n",
            "Average Kendall-Tau Top-10 DINO - MoCo-V3 = 0.11496844444444183\n",
            "Average Kendall-Tau Top-100 DINO - MoCo-V3 = 0.030064468686868556\n",
            "Average Kendall-Tau Top-5 DINO - MAE-FT = 0.16824800000000206\n",
            "Average Kendall-Tau Top-10 DINO - MAE-FT = 0.08126133333333516\n",
            "Average Kendall-Tau Top-100 DINO - MAE-FT = 0.02028055757575748\n",
            "Average Kendall-Tau Top-5 DINO - DINO-FT = 0.16672000000000062\n",
            "Average Kendall-Tau Top-10 DINO - DINO-FT = 0.07900977777777973\n",
            "Average Kendall-Tau Top-100 DINO - DINO-FT = 0.020153333333333398\n",
            "Average Kendall-Tau Top-5 DINO - MoCo-V3-FT = 0.16477600000000167\n",
            "Average Kendall-Tau Top-10 DINO - MoCo-V3-FT = 0.07936000000000118\n",
            "Average Kendall-Tau Top-100 DINO - MoCo-V3-FT = 0.020029874747474755\n",
            "Average Kendall-Tau Top-5 MoCo-V3 - MAE-FT = 0.16670400000000113\n",
            "Average Kendall-Tau Top-10 MoCo-V3 - MAE-FT = 0.0811417777777793\n",
            "Average Kendall-Tau Top-100 MoCo-V3 - MAE-FT = 0.019744234343434214\n",
            "Average Kendall-Tau Top-5 MoCo-V3 - DINO-FT = 0.16181600000000243\n",
            "Average Kendall-Tau Top-10 MoCo-V3 - DINO-FT = 0.07694888888889047\n",
            "Average Kendall-Tau Top-100 MoCo-V3 - DINO-FT = 0.019858480808080798\n",
            "Average Kendall-Tau Top-5 MoCo-V3 - MoCo-V3-FT = 0.16402000000000277\n",
            "Average Kendall-Tau Top-10 MoCo-V3 - MoCo-V3-FT = 0.07872933333333497\n",
            "Average Kendall-Tau Top-100 MoCo-V3 - MoCo-V3-FT = 0.019290343434343354\n",
            "Average Kendall-Tau Top-5 MAE-FT - DINO-FT = 0.21142800000000017\n",
            "Average Kendall-Tau Top-10 MAE-FT - DINO-FT = 0.10418488888888747\n",
            "Average Kendall-Tau Top-100 MAE-FT - DINO-FT = 0.028126157575757406\n",
            "Average Kendall-Tau Top-5 MAE-FT - MoCo-V3-FT = 0.21679999999999666\n",
            "Average Kendall-Tau Top-10 MAE-FT - MoCo-V3-FT = 0.10678533333333087\n",
            "Average Kendall-Tau Top-100 MAE-FT - MoCo-V3-FT = 0.027687515151514974\n",
            "Average Kendall-Tau Top-5 DINO-FT - MoCo-V3-FT = 0.2259239999999957\n",
            "Average Kendall-Tau Top-10 DINO-FT - MoCo-V3-FT = 0.11174088888888659\n",
            "Average Kendall-Tau Top-100 DINO-FT - MoCo-V3-FT = 0.028316008080808374\n"
          ]
        }
      ],
      "source": [
        "for index, key1 in enumerate(keys):\n",
        "    for key2 in keys[index+1:]:\n",
        "        top_5 = avg_kt(dic[key1][1][(dic[key1][0][:, 0] == 1) & (dic[key2][0][:, 0] == 1)], dic[key2][1][(dic[key1][0][:, 0] == 1) & (dic[key2][0][:, 0] == 1)])\n",
        "        print('Average Kendall-Tau Top-5', key1,'-',key2,'=',top_5)\n",
        "        top_10 = avg_kt(dic[key1][1][(dic[key1][0][:, 0] == 1) & (dic[key2][0][:, 0] == 1)], dic[key2][1][(dic[key1][0][:, 0] == 1) & (dic[key2][0][:, 0] == 1)], 10)\n",
        "        print('Average Kendall-Tau Top-10', key1,'-',key2,'=',top_10)\n",
        "        top_100 = avg_kt(dic[key1][1][(dic[key1][0][:, 0] == 1) & (dic[key2][0][:, 0] == 1)], dic[key2][1][(dic[key1][0][:, 0] == 1) & (dic[key2][0][:, 0] == 1)], 100)\n",
        "        print('Average Kendall-Tau Top-100', key1,'-',key2,'=',top_100)"
      ]
    },
    {
      "cell_type": "markdown",
      "metadata": {},
      "source": [
        "## Pair-wise Incorrect Predictions"
      ]
    },
    {
      "cell_type": "code",
      "execution_count": 18,
      "metadata": {},
      "outputs": [
        {
          "name": "stdout",
          "output_type": "stream",
          "text": [
            "Average Kendall-Tau Top-5 supervised - MAE = 0.017459999999999965\n",
            "Average Kendall-Tau Top-10 supervised - MAE = 0.00936799999999999\n",
            "Average Kendall-Tau Top-100 supervised - MAE = 0.0032268363636363596\n",
            "Average Kendall-Tau Top-5 supervised - DINO = 0.025155999999999838\n",
            "Average Kendall-Tau Top-10 supervised - DINO = 0.013484888888888895\n",
            "Average Kendall-Tau Top-100 supervised - DINO = 0.004130351515151517\n",
            "Average Kendall-Tau Top-5 supervised - MoCo-V3 = 0.02437999999999998\n",
            "Average Kendall-Tau Top-10 supervised - MoCo-V3 = 0.013388888888888877\n",
            "Average Kendall-Tau Top-100 supervised - MoCo-V3 = 0.00404051717171716\n",
            "Average Kendall-Tau Top-5 supervised - MAE-FT = 0.02903599999999983\n",
            "Average Kendall-Tau Top-10 supervised - MAE-FT = 0.015290222222222184\n",
            "Average Kendall-Tau Top-100 supervised - MAE-FT = 0.0049755959595959645\n",
            "Average Kendall-Tau Top-5 supervised - DINO-FT = 0.031091999999999842\n",
            "Average Kendall-Tau Top-10 supervised - DINO-FT = 0.016085777777777758\n",
            "Average Kendall-Tau Top-100 supervised - DINO-FT = 0.005205793939393967\n",
            "Average Kendall-Tau Top-5 supervised - MoCo-V3-FT = 0.03186799999999991\n",
            "Average Kendall-Tau Top-10 supervised - MoCo-V3-FT = 0.0171004444444444\n",
            "Average Kendall-Tau Top-100 supervised - MoCo-V3-FT = 0.0053242909090909325\n",
            "Average Kendall-Tau Top-5 MAE - DINO = 0.022939999999999933\n",
            "Average Kendall-Tau Top-10 MAE - DINO = 0.013393333333333292\n",
            "Average Kendall-Tau Top-100 MAE - DINO = 0.004576371717171703\n",
            "Average Kendall-Tau Top-5 MAE - MoCo-V3 = 0.021763999999999856\n",
            "Average Kendall-Tau Top-10 MAE - MoCo-V3 = 0.011711111111111096\n",
            "Average Kendall-Tau Top-100 MAE - MoCo-V3 = 0.0047969858585858545\n",
            "Average Kendall-Tau Top-5 MAE - MAE-FT = 0.016019999999999923\n",
            "Average Kendall-Tau Top-10 MAE - MAE-FT = 0.00810355555555556\n",
            "Average Kendall-Tau Top-100 MAE - MAE-FT = 0.00297968484848485\n",
            "Average Kendall-Tau Top-5 MAE - DINO-FT = 0.016519999999999996\n",
            "Average Kendall-Tau Top-10 MAE - DINO-FT = 0.00889022222222222\n",
            "Average Kendall-Tau Top-100 MAE - DINO-FT = 0.003064880808080794\n",
            "Average Kendall-Tau Top-5 MAE - MoCo-V3-FT = 0.016195999999999884\n",
            "Average Kendall-Tau Top-10 MAE - MoCo-V3-FT = 0.008682222222222216\n",
            "Average Kendall-Tau Top-100 MAE - MoCo-V3-FT = 0.0030446060606060554\n",
            "Average Kendall-Tau Top-5 DINO - MoCo-V3 = 0.03489999999999963\n",
            "Average Kendall-Tau Top-10 DINO - MoCo-V3 = 0.020188444444444353\n",
            "Average Kendall-Tau Top-100 DINO - MoCo-V3 = 0.005938092929292952\n",
            "Average Kendall-Tau Top-5 DINO - MAE-FT = 0.02368399999999994\n",
            "Average Kendall-Tau Top-10 DINO - MAE-FT = 0.012756888888888838\n",
            "Average Kendall-Tau Top-100 DINO - MAE-FT = 0.00348778181818182\n",
            "Average Kendall-Tau Top-5 DINO - DINO-FT = 0.025731999999999845\n",
            "Average Kendall-Tau Top-10 DINO - DINO-FT = 0.013987555555555536\n",
            "Average Kendall-Tau Top-100 DINO - DINO-FT = 0.0036444686868686836\n",
            "Average Kendall-Tau Top-5 DINO - MoCo-V3-FT = 0.024935999999999823\n",
            "Average Kendall-Tau Top-10 DINO - MoCo-V3-FT = 0.013326666666666667\n",
            "Average Kendall-Tau Top-100 DINO - MoCo-V3-FT = 0.0038262626262626194\n",
            "Average Kendall-Tau Top-5 MoCo-V3 - MAE-FT = 0.021851999999999927\n",
            "Average Kendall-Tau Top-10 MoCo-V3 - MAE-FT = 0.012062666666666657\n",
            "Average Kendall-Tau Top-100 MoCo-V3 - MAE-FT = 0.0036598222222222255\n",
            "Average Kendall-Tau Top-5 MoCo-V3 - DINO-FT = 0.023439999999999787\n",
            "Average Kendall-Tau Top-10 MoCo-V3 - DINO-FT = 0.013250666666666546\n",
            "Average Kendall-Tau Top-100 MoCo-V3 - DINO-FT = 0.0036800969696969684\n",
            "Average Kendall-Tau Top-5 MoCo-V3 - MoCo-V3-FT = 0.024127999999999816\n",
            "Average Kendall-Tau Top-10 MoCo-V3 - MoCo-V3-FT = 0.012915111111111023\n",
            "Average Kendall-Tau Top-100 MoCo-V3 - MoCo-V3-FT = 0.0036286545454545503\n",
            "Average Kendall-Tau Top-5 MAE-FT - DINO-FT = 0.031619999999999863\n",
            "Average Kendall-Tau Top-10 MAE-FT - DINO-FT = 0.01621288888888886\n",
            "Average Kendall-Tau Top-100 MAE-FT - DINO-FT = 0.005579498989898986\n",
            "Average Kendall-Tau Top-5 MAE-FT - MoCo-V3-FT = 0.033291999999999856\n",
            "Average Kendall-Tau Top-10 MAE-FT - MoCo-V3-FT = 0.017144444444444386\n",
            "Average Kendall-Tau Top-100 MAE-FT - MoCo-V3-FT = 0.005446901010101002\n",
            "Average Kendall-Tau Top-5 DINO-FT - MoCo-V3-FT = 0.037655999999999815\n",
            "Average Kendall-Tau Top-10 DINO-FT - MoCo-V3-FT = 0.020026666666666623\n",
            "Average Kendall-Tau Top-100 DINO-FT - MoCo-V3-FT = 0.006266359595959604\n"
          ]
        }
      ],
      "source": [
        "for index, key1 in enumerate(keys):\n",
        "    for key2 in keys[index+1:]:\n",
        "        top_5 = avg_kt(dic[key1][1][(dic[key1][0][:, 0] == 0) & (dic[key2][0][:, 0] == 0)], dic[key2][1][(dic[key1][0][:, 0] == 0) & (dic[key2][0][:, 0] == 0)])\n",
        "        print('Average Kendall-Tau Top-5', key1,'-',key2,'=',top_5)\n",
        "        top_10 = avg_kt(dic[key1][1][(dic[key1][0][:, 0] == 0) & (dic[key2][0][:, 0] == 0)], dic[key2][1][(dic[key1][0][:, 0] == 0) & (dic[key2][0][:, 0] == 0)], 10)\n",
        "        print('Average Kendall-Tau Top-10', key1,'-',key2,'=',top_10)\n",
        "        top_100 = avg_kt(dic[key1][1][(dic[key1][0][:, 0] == 0) & (dic[key2][0][:, 0] == 0)], dic[key2][1][(dic[key1][0][:, 0] == 0) & (dic[key2][0][:, 0] == 0)], 100)\n",
        "        print('Average Kendall-Tau Top-100', key1,'-',key2,'=',top_100)"
      ]
    },
    {
      "cell_type": "markdown",
      "metadata": {},
      "source": [
        "## Model-wise correct predictions"
      ]
    },
    {
      "cell_type": "markdown",
      "metadata": {},
      "source": [
        "### MAE"
      ]
    },
    {
      "cell_type": "code",
      "execution_count": null,
      "metadata": {},
      "outputs": [],
      "source": [
        "top_5 = avg_kt(mae_ranks[mae_results[:, 0] == 1], moco_ranks[mae_results[:, 0] == 1])\n",
        "top_10 = avg_kt(mae_ranks[mae_results[:, 0] == 1], moco_ranks[mae_results[:, 0] == 1], 10)\n",
        "top_100 = avg_kt(mae_ranks[mae_results[:, 0] == 1], moco_ranks[mae_results[:, 0] == 1], 100)"
      ]
    },
    {
      "cell_type": "code",
      "execution_count": null,
      "metadata": {},
      "outputs": [],
      "source": [
        "print(top_5, top_10, top_100)"
      ]
    },
    {
      "cell_type": "code",
      "execution_count": null,
      "metadata": {},
      "outputs": [],
      "source": [
        "top_5 = avg_kt(mae_ranks[mae_results[:, 0] == 1], dino_ranks[mae_results[:, 0] == 1])\n",
        "top_10 = avg_kt(mae_ranks[mae_results[:, 0] == 1], dino_ranks[mae_results[:, 0] == 1], 10)\n",
        "top_100 = avg_kt(mae_ranks[mae_results[:, 0] == 1], dino_ranks[mae_results[:, 0] == 1], 100)"
      ]
    },
    {
      "cell_type": "code",
      "execution_count": null,
      "metadata": {},
      "outputs": [],
      "source": [
        "print(top_5, top_10, top_100)"
      ]
    },
    {
      "cell_type": "markdown",
      "metadata": {},
      "source": [
        "### MoCo-v3"
      ]
    },
    {
      "cell_type": "code",
      "execution_count": null,
      "metadata": {},
      "outputs": [],
      "source": [
        "top_5 = avg_kt(mae_ranks[moco_results[:, 0] == 1], moco_ranks[moco_results[:, 0] == 1])\n",
        "top_10 = avg_kt(mae_ranks[moco_results[:, 0] == 1], moco_ranks[moco_results[:, 0] == 1], 10)\n",
        "top_100 = avg_kt(mae_ranks[moco_results[:, 0] == 1], moco_ranks[moco_results[:, 0] == 1], 100)"
      ]
    },
    {
      "cell_type": "code",
      "execution_count": null,
      "metadata": {},
      "outputs": [],
      "source": [
        "print(top_5, top_10, top_100)"
      ]
    },
    {
      "cell_type": "code",
      "execution_count": null,
      "metadata": {},
      "outputs": [],
      "source": [
        "top_5 = avg_kt(dino_ranks[moco_results[:, 0] == 1], moco_ranks[moco_results[:, 0] == 1])\n",
        "top_10 = avg_kt(dino_ranks[moco_results[:, 0] == 1], moco_ranks[moco_results[:, 0] == 1], 10)\n",
        "top_100 = avg_kt(dino_ranks[moco_results[:, 0] == 1], moco_ranks[moco_results[:, 0] == 1], 100)"
      ]
    },
    {
      "cell_type": "code",
      "execution_count": null,
      "metadata": {},
      "outputs": [],
      "source": [
        "print(top_5, top_10, top_100)"
      ]
    },
    {
      "cell_type": "markdown",
      "metadata": {},
      "source": [
        "## Inorrect Predictions"
      ]
    },
    {
      "cell_type": "markdown",
      "metadata": {},
      "source": [
        "### MAE"
      ]
    },
    {
      "cell_type": "code",
      "execution_count": null,
      "metadata": {},
      "outputs": [],
      "source": [
        "top_5 = avg_kt(mae_ranks[mae_results[:, 0] == 0], moco_ranks[mae_results[:, 0] == 0])\n",
        "top_10 = avg_kt(mae_ranks[mae_results[:, 0] == 0], moco_ranks[mae_results[:, 0] == 0], 10)\n",
        "top_100 = avg_kt(mae_ranks[mae_results[:, 0] == 0], moco_ranks[mae_results[:, 0] == 0], 100)"
      ]
    },
    {
      "cell_type": "code",
      "execution_count": null,
      "metadata": {},
      "outputs": [],
      "source": [
        "print(top_5, top_10, top_100)"
      ]
    },
    {
      "cell_type": "code",
      "execution_count": null,
      "metadata": {},
      "outputs": [],
      "source": [
        "top_5 = avg_kt(mae_ranks[mae_results[:, 0] == 0], dino_ranks[mae_results[:, 0] == 0])\n",
        "top_10 = avg_kt(mae_ranks[mae_results[:, 0] == 0], dino_ranks[mae_results[:, 0] == 0], 10)\n",
        "top_100 = avg_kt(mae_ranks[mae_results[:, 0] == 0], dino_ranks[mae_results[:, 0] == 0], 100)"
      ]
    },
    {
      "cell_type": "code",
      "execution_count": null,
      "metadata": {},
      "outputs": [],
      "source": [
        "print(top_5, top_10, top_100)"
      ]
    },
    {
      "cell_type": "markdown",
      "metadata": {},
      "source": [
        "### MoCo-v3"
      ]
    },
    {
      "cell_type": "code",
      "execution_count": null,
      "metadata": {},
      "outputs": [],
      "source": [
        "top_5 = avg_kt(mae_ranks[moco_results[:, 0] == 0], moco_ranks[moco_results[:, 0] == 0])\n",
        "top_10 = avg_kt(mae_ranks[moco_results[:, 0] == 0], moco_ranks[moco_results[:, 0] == 0], 10)\n",
        "top_100 = avg_kt(mae_ranks[moco_results[:, 0] == 0], moco_ranks[moco_results[:, 0] == 0], 100)"
      ]
    },
    {
      "cell_type": "code",
      "execution_count": null,
      "metadata": {},
      "outputs": [],
      "source": [
        "print(top_5, top_10, top_100)"
      ]
    },
    {
      "cell_type": "code",
      "execution_count": null,
      "metadata": {},
      "outputs": [],
      "source": [
        "top_5 = avg_kt(dino_ranks[moco_results[:, 0] == 0], moco_ranks[moco_results[:, 0] == 0])\n",
        "top_10 = avg_kt(dino_ranks[moco_results[:, 0] == 0], moco_ranks[moco_results[:, 0] == 0], 10)\n",
        "top_100 = avg_kt(dino_ranks[moco_results[:, 0] == 0], moco_ranks[moco_results[:, 0] == 0], 100)"
      ]
    },
    {
      "cell_type": "code",
      "execution_count": null,
      "metadata": {},
      "outputs": [],
      "source": [
        "print(top_5, top_10, top_100)"
      ]
    },
    {
      "cell_type": "markdown",
      "metadata": {},
      "source": [
        "### DINO"
      ]
    },
    {
      "cell_type": "code",
      "execution_count": null,
      "metadata": {},
      "outputs": [],
      "source": [
        "top_5 = avg_kt(mae_ranks[dino_results[:, 0] == 0], dino_ranks[dino_results[:, 0] == 0])\n",
        "top_10 = avg_kt(mae_ranks[dino_results[:, 0] == 0], dino_ranks[dino_results[:, 0] == 0], 10)\n",
        "top_100 = avg_kt(mae_ranks[dino_results[:, 0] == 0], dino_ranks[dino_results[:, 0] == 0], 100)"
      ]
    },
    {
      "cell_type": "code",
      "execution_count": null,
      "metadata": {},
      "outputs": [],
      "source": [
        "print(top_5, top_10, top_100)"
      ]
    },
    {
      "cell_type": "code",
      "execution_count": null,
      "metadata": {},
      "outputs": [],
      "source": [
        "top_5 = avg_kt(moco_ranks[dino_results[:, 0] == 0], dino_ranks[dino_results[:, 0] == 0])\n",
        "top_10 = avg_kt(moco_ranks[dino_results[:, 0] == 0], dino_ranks[dino_results[:, 0] == 0], 10)\n",
        "top_100 = avg_kt(moco_ranks[dino_results[:, 0] == 0], dino_ranks[dino_results[:, 0] == 0], 100)"
      ]
    },
    {
      "cell_type": "code",
      "execution_count": null,
      "metadata": {},
      "outputs": [],
      "source": [
        "print(top_5, top_10, top_100)"
      ]
    },
    {
      "cell_type": "markdown",
      "metadata": {},
      "source": [
        "## Pairwise Correct"
      ]
    },
    {
      "cell_type": "code",
      "execution_count": null,
      "metadata": {},
      "outputs": [],
      "source": [
        "top_5 = avg_kt(moco_ranks[(moco_results[:, 0] == 1) & (dino_results[:, 0] == 1)], dino_ranks[(moco_results[:, 0] == 1) & (dino_results[:, 0] == 1)])\n",
        "top_10 = avg_kt(moco_ranks[(moco_results[:, 0] == 1) & (dino_results[:, 0] == 1)], dino_ranks[(moco_results[:, 0] == 1) & (dino_results[:, 0] == 1)], 10)\n",
        "top_100 = avg_kt(moco_ranks[(moco_results[:, 0] == 1) & (dino_results[:, 0] == 1)], dino_ranks[(moco_results[:, 0] == 1) & (dino_results[:, 0] == 1)], 100)"
      ]
    },
    {
      "cell_type": "code",
      "execution_count": null,
      "metadata": {},
      "outputs": [],
      "source": [
        "print(top_5, top_10, top_100)"
      ]
    },
    {
      "cell_type": "code",
      "execution_count": null,
      "metadata": {},
      "outputs": [],
      "source": [
        "top_5 = avg_kt(mae_ranks[(mae_results[:, 0] == 1) & (dino_results[:, 0] == 1)], dino_ranks[(mae_results[:, 0] == 1) & (dino_results[:, 0] == 1)])\n",
        "top_10 = avg_kt(mae_ranks[(mae_results[:, 0] == 1) & (dino_results[:, 0] == 1)], dino_ranks[(mae_results[:, 0] == 1) & (dino_results[:, 0] == 1)], 10)\n",
        "top_100 = avg_kt(mae_ranks[(mae_results[:, 0] == 1) & (dino_results[:, 0] == 1)], dino_ranks[(mae_results[:, 0] == 1) & (dino_results[:, 0] == 1)], 100)"
      ]
    },
    {
      "cell_type": "code",
      "execution_count": null,
      "metadata": {},
      "outputs": [],
      "source": [
        "print(top_5, top_10, top_100)"
      ]
    },
    {
      "cell_type": "code",
      "execution_count": null,
      "metadata": {},
      "outputs": [],
      "source": [
        "top_5 = avg_kt(mae_ranks[(mae_results[:, 0] == 1) & (moco_results[:, 0] == 1)], moco_ranks[(mae_results[:, 0] == 1) & (moco_results[:, 0] == 1)])\n",
        "top_10 = avg_kt(mae_ranks[(mae_results[:, 0] == 1) & (moco_results[:, 0] == 1)], moco_ranks[(mae_results[:, 0] == 1) & (moco_results[:, 0] == 1)], 10)\n",
        "top_100 = avg_kt(mae_ranks[(mae_results[:, 0] == 1) & (moco_results[:, 0] == 1)], moco_ranks[(mae_results[:, 0] == 1) & (moco_results[:, 0] == 1)], 100)"
      ]
    },
    {
      "cell_type": "code",
      "execution_count": null,
      "metadata": {},
      "outputs": [],
      "source": [
        "print(top_5, top_10, top_100)"
      ]
    },
    {
      "cell_type": "markdown",
      "metadata": {},
      "source": [
        "## Pairwise incorrect"
      ]
    },
    {
      "cell_type": "code",
      "execution_count": null,
      "metadata": {},
      "outputs": [],
      "source": [
        "top_5 = avg_kt(moco_ranks[(moco_results[:, 0] == 0) & (dino_results[:, 0] == 0)], dino_ranks[(moco_results[:, 0] == 0) & (dino_results[:, 0] == 0)])\n",
        "top_10 = avg_kt(moco_ranks[(moco_results[:, 0] == 0) & (dino_results[:, 0] == 0)], dino_ranks[(moco_results[:, 0] == 0) & (dino_results[:, 0] == 0)], 10)\n",
        "top_100 = avg_kt(moco_ranks[(moco_results[:, 0] == 0) & (dino_results[:, 0] == 0)], dino_ranks[(moco_results[:, 0] == 0) & (dino_results[:, 0] == 0)], 100)"
      ]
    },
    {
      "cell_type": "code",
      "execution_count": null,
      "metadata": {},
      "outputs": [],
      "source": [
        "print(top_5, top_10, top_100)"
      ]
    },
    {
      "cell_type": "code",
      "execution_count": null,
      "metadata": {},
      "outputs": [],
      "source": [
        "top_5 = avg_kt(mae_ranks[(mae_results[:, 0] == 0) & (dino_results[:, 0] == 0)], dino_ranks[(mae_results[:, 0] == 0) & (dino_results[:, 0] == 0)])\n",
        "top_10 = avg_kt(mae_ranks[(mae_results[:, 0] == 0) & (dino_results[:, 0] == 0)], dino_ranks[(mae_results[:, 0] == 0) & (dino_results[:, 0] == 0)], 10)\n",
        "top_100 = avg_kt(mae_ranks[(mae_results[:, 0] == 0) & (dino_results[:, 0] == 0)], dino_ranks[(mae_results[:, 0] == 0) & (dino_results[:, 0] == 0)], 100)"
      ]
    },
    {
      "cell_type": "code",
      "execution_count": null,
      "metadata": {},
      "outputs": [],
      "source": [
        "print(top_5, top_10, top_100)"
      ]
    },
    {
      "cell_type": "code",
      "execution_count": null,
      "metadata": {},
      "outputs": [],
      "source": [
        "top_5 = avg_kt(mae_ranks[(mae_results[:, 0] == 0) & (moco_results[:, 0] == 0)], moco_ranks[(mae_results[:, 0] == 0) & (moco_results[:, 0] == 0)])\n",
        "top_10 = avg_kt(mae_ranks[(mae_results[:, 0] == 0) & (moco_results[:, 0] == 0)], moco_ranks[(mae_results[:, 0] == 0) & (moco_results[:, 0] == 0)], 10)\n",
        "top_100 = avg_kt(mae_ranks[(mae_results[:, 0] == 0) & (moco_results[:, 0] == 0)], moco_ranks[(mae_results[:, 0] == 0) & (moco_results[:, 0] == 0)], 100)"
      ]
    },
    {
      "cell_type": "code",
      "execution_count": null,
      "metadata": {},
      "outputs": [],
      "source": [
        "print(top_5, top_10, top_100)"
      ]
    },
    {
      "cell_type": "markdown",
      "metadata": {},
      "source": [
        "Class-wise accuracy"
      ]
    },
    {
      "cell_type": "code",
      "execution_count": null,
      "metadata": {},
      "outputs": [],
      "source": [
        "mae_classwise = {i:0 for i in range(1000)}\n",
        "moco_classwise = {i:0 for i in range(1000)}\n",
        "dino_classwise = {i:0 for i in range(1000)}\n",
        "\n",
        "mae_classwise_5 = {i:0 for i in range(1000)}\n",
        "moco_classwise_5 = {i:0 for i in range(1000)}\n",
        "dino_classwise_5 = {i:0 for i in range(1000)}"
      ]
    },
    {
      "cell_type": "code",
      "execution_count": null,
      "metadata": {},
      "outputs": [],
      "source": [
        "for i, label in enumerate(labels):\n",
        "    if mae_results[i, 0] == 1:\n",
        "        mae_classwise[label] += 1\n",
        "    if moco_results[i, 0] == 1:\n",
        "        moco_classwise[label] += 1\n",
        "    if dino_results[i, 0] == 1:\n",
        "        dino_classwise[label] += 1\n",
        "    if mae_results[i, 1] == 1:\n",
        "        mae_classwise_5[label] += 1\n",
        "    if moco_results[i, 1] == 1:\n",
        "        moco_classwise_5[label] += 1\n",
        "    if dino_results[i, 1] == 1:\n",
        "        dino_classwise_5[label] += 1\n"
      ]
    },
    {
      "cell_type": "code",
      "execution_count": null,
      "metadata": {},
      "outputs": [],
      "source": [
        "sns.barplot(x=list(mae_classwise.keys()), y=list(mae_classwise.values()))\n",
        "plt.xticks([100, 200, 300, 400, 500, 600, 700, 800, 900, 1000])"
      ]
    }
  ],
  "metadata": {
    "accelerator": "GPU",
    "colab": {
      "authorship_tag": "ABX9TyPN0rF6/zxwFPGq0ccUU6IZ",
      "collapsed_sections": [],
      "include_colab_link": true,
      "name": "Reproducing Raghu et al 2021 - ViT vs CNN representations.ipynb",
      "provenance": []
    },
    "interpreter": {
      "hash": "4d63592652b72d6d1212845803c5d9f179006041ae41fea55e5a05839d2c9b62"
    },
    "kernelspec": {
      "display_name": "Python 3.9.12 ('pytorch_env')",
      "language": "python",
      "name": "python3"
    },
    "language_info": {
      "codemirror_mode": {
        "name": "ipython",
        "version": 3
      },
      "file_extension": ".py",
      "mimetype": "text/x-python",
      "name": "python",
      "nbconvert_exporter": "python",
      "pygments_lexer": "ipython3",
      "version": "3.9.12"
    }
  },
  "nbformat": 4,
  "nbformat_minor": 0
}
